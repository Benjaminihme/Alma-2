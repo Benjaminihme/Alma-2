{
 "cells": [
  {
   "cell_type": "markdown",
   "metadata": {},
   "source": [
    "# Programmieraufgabe 1  (Geburtstagsparadoxon)"
   ]
  },
  {
   "cell_type": "markdown",
   "metadata": {},
   "source": [
    "<span style=\"font-weight: bold\">Wichtig: Damit alle ben&ouml;tigten Pakete richtig eingebunden werden, f&uuml;hren Sie die n&auml;chste Zelle einmal aus.</span>"
   ]
  },
  {
   "cell_type": "code",
   "execution_count": 14,
   "metadata": {},
   "outputs": [],
   "source": [
    "# some setup\n",
    "import numpy as np # makes numpy routines and data types available as np.[name ouf routine or data type]\n",
    "import matplotlib.pyplot as plt # makes plotting command available as plt.[name of command]\n",
    "from numpy import random\n",
    "\n",
    "random.seed(0)"
   ]
  },
  {
   "cell_type": "markdown",
   "metadata": {},
   "source": [
    "a) Die Funktion calcchance(size, k, samples) soll die relative H&auml;ufigkeit zur&uuml;ckgeben, dass unter \"size\" vielen Leuten \"k\" Leute am gleichen Tag Geburtstag haben. Das Zufallsexperiment wird dabei \"samples\" oft wiederholt. "
   ]
  },
  {
   "cell_type": "code",
   "execution_count": 27,
   "metadata": {},
   "outputs": [],
   "source": [
    "def calcchance(size=32,k=2,samples=10000):\n",
    "    # if you set parameter=value in the declaration, this becomes the default value \n",
    "    # and the parameter can be omitted on call.\n",
    "    # Everything in the block has to be indented the same amount of spaces (this is\n",
    "    # python's way of { } )\n",
    "    \n",
    "    amount_same_bd=0 #to count how many experiments had people sharing birthday\n",
    "    # loop over the number of samples\n",
    "    for i in range(samples): #does experiment samples times\n",
    "        # create random birthdays for every person in the group (array of size 'size')\n",
    "        a = random.randint(0,365, size)\n",
    "        \n",
    "        #u=sorted list of now unique entries, counts=how many times entry of u appears in original list\n",
    "        u,counts=np.unique(a, return_counts=True) \n",
    "        \n",
    "        #finds max entry in counts and if it is >=2, then increments amount_same_bd\n",
    "        if (max(counts)>=k): #if \n",
    "            amount_same_bd+=1\n",
    "    \n",
    "    #return the relative amount that an experiment ended with 2 or more people\n",
    "    #sharing a birthday\n",
    "    return np.float64(amount_same_bd/samples)"
   ]
  },
  {
   "cell_type": "code",
   "execution_count": 28,
   "metadata": {
    "scrolled": true
   },
   "outputs": [
    {
     "name": "stdout",
     "output_type": "stream",
     "text": [
      "0.5092\n"
     ]
    }
   ],
   "source": [
    "print(calcchance(23,2))"
   ]
  },
  {
   "cell_type": "markdown",
   "metadata": {},
   "source": [
    "b) Die folgende Funktion soll die relative H&auml;ufigkeit zur&uuml;ckgeben, dass es unter \"size\" vielen Leuten noch einen weiteren gibt, der am gleichen Tag wie \"num\" Geburtstag hat. "
   ]
  },
  {
   "cell_type": "code",
   "execution_count": 29,
   "metadata": {},
   "outputs": [
    {
     "name": "stdout",
     "output_type": "stream",
     "text": [
      "0.08054\n"
     ]
    }
   ],
   "source": [
    "def calcchance2(size=36,num=0,samples=10000):\n",
    "    amount_same_bd_as_num=0 #to count how many experiments ended with people sharing birthday with num\n",
    "    for i in range(samples):\n",
    "        a = random.randint(0,365,size)\n",
    "        if (a==a[num]).sum()>1: #if the sum of people having the same bd as num is >1\n",
    "            amount_same_bd_as_num+=1 #increment amount_same_bd_as_num\n",
    "    return amount_same_bd_as_num/samples\n",
    "print(calcchance2(32, 31, 100000))\n",
    "    \n",
    "    "
   ]
  },
  {
   "cell_type": "markdown",
   "metadata": {},
   "source": [
    "c) Stellen Sie mittels \"pyplot\" die relativen H&auml;ufigkeiten (10000 Wiederholungen) aus Aufgabe a) graphisch dar (k=2, size = 2,...,90) und geben Sie aus, wie gross die Gruppe sein muss, so dass in \n",
    "\n",
    "(i) 50% \n",
    "(ii) 90%\n",
    "(iii) 95%\n",
    "\n",
    "aller F&auml;lle 2 Leute am selben Tag Geburtstag haben. "
   ]
  },
  {
   "cell_type": "code",
   "execution_count": 18,
   "metadata": {},
   "outputs": [],
   "source": [
    "#fill x with values from 2 to 90 and y with calcchance(k=2, size=i)\n",
    "x=[]\n",
    "y=[]\n",
    "\n",
    "for i in range(2,91):\n",
    "    x.append(i)\n",
    "    y.append(calcchance(i,2,10000))"
   ]
  },
  {
   "cell_type": "code",
   "execution_count": 19,
   "metadata": {},
   "outputs": [],
   "source": [
    "#fill x2 with values from 2 to 90 and y2 with calcchance2(k=2, size=i)\n",
    "x2=[]\n",
    "y2=[]\n",
    "\n",
    "for i in range(2,91):\n",
    "    x2.append(i)\n",
    "    y2.append(calcchance2(i,0,10000))"
   ]
  },
  {
   "cell_type": "code",
   "execution_count": 23,
   "metadata": {},
   "outputs": [
    {
     "name": "stdout",
     "output_type": "stream",
     "text": [
      "with  21 or more people the probability of at least two sharing a birthday is > 50%\n",
      "with  39 or more people the probability of at least two sharing a birthday is > 90%\n",
      "with  44 or more people the probability of at least two sharing a birthday is > 95%\n"
     ]
    }
   ],
   "source": [
    "#calculate where the probability surpasses 50%, 90%, 95% and save positions in x3\n",
    "x3=[]\n",
    "for i in range(0,91):\n",
    "    if y[i]>0.5:\n",
    "        x3.append(i)\n",
    "        print(\"with \", i, \"or more people the probability of at least two sharing a birthday is > 50%\")\n",
    "        for j in range(i, 91):\n",
    "            if y[j]>0.9:\n",
    "                x3.append(j)\n",
    "                print(\"with \", j, \"or more people the probability of at least two sharing a birthday is > 90%\")\n",
    "                for k in range(j, 91):\n",
    "                    if y[k]>0.95:\n",
    "                        x3.append(k)\n",
    "                        print(\"with \", k, \"or more people the probability of at least two sharing a birthday is > 95%\")\n",
    "                        break\n",
    "                break\n",
    "        break"
   ]
  },
  {
   "cell_type": "code",
   "execution_count": 21,
   "metadata": {
    "scrolled": true
   },
   "outputs": [
    {
     "data": {
      "image/png": "[encoded data removed]",
      "text/plain": [
       "<matplotlib.figure.Figure at 0x298e2644dd8>"
      ]
     },
     "metadata": {},
     "output_type": "display_data"
    }
   ],
   "source": [
    "#create plot showing, how probability changes with increasing number of people\n",
    "plt.plot(x,y, color='c', label='probability for any group')\n",
    "plt.plot(x2,y2, color='red', label='probability for one person')\n",
    "plt.scatter(x3,[y[x3[0]]-0.05,y[x3[1]]-0.02,y[x3[2]]-0.01], color='k', marker='_', s=300) #mark where probability surpasses certain values\n",
    "\n",
    "#create title, labels and legend\n",
    "plt.title('Probability of at least two people sharing a birthday')\n",
    "plt.xlabel('number of people')\n",
    "plt.legend()\n",
    "\n",
    "#show the plot\n",
    "plt.show()"
   ]
  },
  {
   "cell_type": "code",
   "execution_count": null,
   "metadata": {},
   "outputs": [],
   "source": []
  },
  {
   "cell_type": "code",
   "execution_count": null,
   "metadata": {},
   "outputs": [],
   "source": []
  }
 ],
 "metadata": {
  "anaconda-cloud": {},
  "kernelspec": {
   "display_name": "Python 3",
   "language": "python",
   "name": "python3"
  },
  "language_info": {
   "codemirror_mode": {
    "name": "ipython",
    "version": 3
   },
   "file_extension": ".py",
   "mimetype": "text/x-python",
   "name": "python",
   "nbconvert_exporter": "python",
   "pygments_lexer": "ipython3",
   "version": "3.6.4"
  },
  "widgets": {
   "state": {
    "dc3a3f1d23314758bf356f952c03d594": {
     "views": [
      {
       "cell_index": 4
      }
     ]
    }
   },
   "version": "1.2.0"
  }
 },
 "nbformat": 4,
 "nbformat_minor": 1
}

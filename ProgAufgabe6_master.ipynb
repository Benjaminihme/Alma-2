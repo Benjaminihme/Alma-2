{
 "cells": [
  {
   "cell_type": "markdown",
   "metadata": {},
   "source": [
    "# Programmieraufgabe 6: Das Newton-Verfahren "
   ]
  },
  {
   "cell_type": "code",
   "execution_count": 220,
   "metadata": {},
   "outputs": [],
   "source": [
    "# some setup\n",
    "%matplotlib inline\n",
    "import numpy as np \n",
    "import matplotlib.pyplot as plt "
   ]
  },
  {
   "cell_type": "markdown",
   "metadata": {
    "collapsed": true
   },
   "source": [
    "In dieser Aufgabe werden wir das Newton-Verfahren (in einer Dimension) implementieren und an einigen Beispielen testen. Für eine differenzierbare Funktion $f: \\mathbb{R} \\rightarrow \\mathbb{R}$ ist das Newtonverfahren mit Startwert $x_0$ durch folgende Iterationsvorschrift definiert: \n",
    "\n",
    "$x_{n+1} = N(x_n) := x_n - \\frac{f(x_n)}{f'(x_n)}$\n",
    "\n",
    "Zumindest die Aufgaben a),b),c),e) und f) sollten damit auch ohne theoretisches Vorwissen aus der Mittwochs-Vorlesung bearbeitet werden können. \n",
    "\n",
    "a) Implementieren Sie das Newton-Verfahren in einer Funktion \"newton\", die als Parameter eine Funktion $f$, deren Ableitung $f'$ sowie einen Startwert $x_0$, eine Schranke $itmax$ für die Anzahl der Iterationen sowie eine gewünschte Genauigkeit $\\varepsilon$ erhält. Ausgegeben werden soll die letzte Iterierte, ein array, das alle Iterierten enthält, sowie ein Boolwert, der \"Erfolg\" oder \"Nicht Erfolg\" anzeigt. Dabei soll das Verfahren erfolgreich abbrechen, wenn eine Iterierte $x_n$ die Bedingung $\\lvert f(x_n)/f'(x_n) \\rvert < \\varepsilon$ erfüllt bzw. andernfalls erfolglos abbrechen, wenn $itmax$-viele Iterationen durchgeführt wurden. "
   ]
  },
  {
   "cell_type": "code",
   "execution_count": 221,
   "metadata": {},
   "outputs": [],
   "source": [
    "def newton(f, df, x0, itmax, epsilon):\n",
    "    \n",
    "    # to be done... \n",
    "    success=False \n",
    "    xarray=[]\n",
    "    x=x0\n",
    "    xarray.append(x)\n",
    "    for i in range(itmax):\n",
    "        if abs(f(x)/df(x))<epsilon: #check if given criteria is met, aka we are close to zero\n",
    "            success=True\n",
    "            break\n",
    "        else:\n",
    "            x=x-f(x)/df(x) #set x to next iteration\n",
    "            xarray.append(x) #store new x in xarray\n",
    "        \n",
    "    \n",
    "    return x, xarray, success \n",
    "\n",
    "#my own testingdata\n",
    "#def f(x):\n",
    " #   return x*x-2\n",
    "#print(f(2))\n",
    "#def df(x):\n",
    "#    return 2*x#\n",
    "\n",
    "#lsg=newton(f,df,2,100,0.0000000001)\n",
    "#print(lsg)"
   ]
  },
  {
   "cell_type": "markdown",
   "metadata": {},
   "source": [
    "b) Man implementiere eine Funktion, die für eine gegebene Funktion $f$ und ein array von Startwerten jeweils maximal $itmax$ Newton-Iterationen mit Abbruchgenauigkeit $\\epsilon$ für $f$ durchführt. Ausgegeben werden sollen zwei Arrays: eines, das jeweils die letzte Iterierte enthält, sowie eines, das \"1\" for Konvergenz bzw. \"0\" für Nicht-Konvergenz enthält. \n"
   ]
  },
  {
   "cell_type": "code",
   "execution_count": 222,
   "metadata": {},
   "outputs": [],
   "source": [
    "#Ich gehe hier davon aus, dass mit konvergenz bzw nicht konvergenz in der aufgabe gemeint war,\n",
    "#ob das Abbruchkriterium erreicht wurde, oder nicht, da die konvergenz von newton-iterationen\n",
    "#eine lokal bedingte eigenschaft ist\n",
    "\n",
    "def p(x):\n",
    "    return x**3 - 2*x + 2\n",
    "def dp(x):\n",
    "    return 3*x**2 - 2 \n",
    "\n",
    "def newton_test(f, df, startarray, itmax, epsilon):\n",
    "\n",
    "    # to be done ... \n",
    "    xfinalarray=[] #initialize the lists\n",
    "    successarray=[]\n",
    "    for x0 in startarray: #go through all entries in startarray\n",
    "        xfinal,trash,xsuccess=newton(f,df,x0,itmax,epsilon)\n",
    "        \n",
    "        xfinalarray.append(xfinal)\n",
    "        successarray.append(xsuccess)\n",
    "    \n",
    "    return xfinalarray, successarray \n",
    "\n",
    "\n",
    "#my own testing data\n",
    "#startarray=[-2,-1,1,2,500]\n",
    "#print(newton_test(f,df,startarray,20,0.0000000001))"
   ]
  },
  {
   "cell_type": "markdown",
   "metadata": {},
   "source": [
    "c) Untersuchen Sie mit Hilfe Ihrer Funktion aus b) das Verhalten des Newton-Verfahrens für $p(x) = x^3 - 2x + 2$ für Startwerte aus dem Intervall $[-3,3]$. Veranschaulichen Sie Ihre Ergebnisse mit geeigneten Graphiken und beschreiben Sie das beobachtete Verhalten. "
   ]
  },
  {
   "cell_type": "code",
   "execution_count": 223,
   "metadata": {},
   "outputs": [
    {
     "data": {
      "image/png": "[encoded data removed]",
      "text/plain": [
       "<matplotlib.figure.Figure at 0x2805101a2b0>"
      ]
     },
     "metadata": {},
     "output_type": "display_data"
    }
   ],
   "source": [
    "# Ein mögliches Array mit Startenwerten. Ggf. kann die Anzahl der Punkte noch erhöht werden...  \n",
    "startarray = np.linspace(-3,3,500)\n",
    "itmax = 50\n",
    "epsilon = 1e-5\n",
    "\n",
    "    # to be done ... \n",
    "graph_p=[p(x) for x in startarray]\n",
    "xres,xconv=newton_test(p,dp,startarray,itmax,epsilon)\n",
    "plt.plot(startarray,xres)\n",
    "#plt.plot(startarray,graph_p)\n",
    "plt.show()\n",
    "\n"
   ]
  },
  {
   "cell_type": "code",
   "execution_count": 224,
   "metadata": {},
   "outputs": [
    {
     "data": {
      "image/png": "[encoded data removed]",
      "text/plain": [
       "<matplotlib.figure.Figure at 0x2805111b5f8>"
      ]
     },
     "metadata": {},
     "output_type": "display_data"
    }
   ],
   "source": [
    "plt.plot(startarray,graph_p)\n",
    "plt.plot(startarray,xconv)\n",
    "plt.show()\n",
    "\n",
    "#in this plot we see, that for x0>=1 it kind of depends on luck, wether we end up at the right place,\n",
    "#which is a result of of the lokal minimum at x=ca 1 "
   ]
  },
  {
   "cell_type": "markdown",
   "metadata": {},
   "source": [
    "d) Untersuchen Sie für die folgenden Funktionen $f_i$ und Startwerte $x_0$ jeweils das Konvergenzverhalten des Newton-Verfahrens: Plotten Sie dazu jeweils den Verlauf der Fehler $\\lvert x_n - x^* \\rvert$, wobei $x_n$ die $n$-te Iterierte und $x^*$ die tatsächliche Nullstelle darstellt. Verwenden Sie eine Form der Darstellung, aus der sich die Konvergenzordnung ablesen lässt! Interpretieren Sie die Ergebnisse. \n",
    "\n",
    "d.i)  $f_1(x) := x^3 - 2x^2 + x$,   $x_0 = 2$,   $x^* = 1$.\n",
    "\n",
    "d.ii) $f_1(x)$ aber mit $x_0 = -1$ und $x^* = 0$.\n",
    "\n",
    "d.iii) $f_2(x) := exp(-1/x^2)$,   $x_0 = 1/2$,   $x^* = 0$."
   ]
  },
  {
   "cell_type": "code",
   "execution_count": 225,
   "metadata": {},
   "outputs": [
    {
     "data": {
      "text/plain": [
       "<function matplotlib.pyplot.show>"
      ]
     },
     "execution_count": 225,
     "metadata": {},
     "output_type": "execute_result"
    },
    {
     "data": {
      "image/png": "[encoded data removed]",
      "text/plain": [
       "<matplotlib.figure.Figure at 0x2805285c7b8>"
      ]
     },
     "metadata": {},
     "output_type": "display_data"
    }
   ],
   "source": [
    "# to be done... \n",
    "#i)\n",
    "def f1(x):\n",
    "    return x**3-2*x*x+x\n",
    "\n",
    "def df1(x):\n",
    "    return 3*x*x-4*x+1\n",
    "\n",
    "trash1,xarray1,success1=newton(f1,df1,2,40,0.0001)\n",
    "\n",
    "x_axis=[x for x in range (len(xarray1))]\n",
    "abs_mist=[abs(x-1) for x in xarray1]\n",
    "\n",
    "trash2,xarray2,success2=newton(f1,df1,-1,40,0.0001)\n",
    "x_axis2=[x for x in range (len(xarray2))]\n",
    "abs_mist2=[abs(x) for x in xarray2]\n",
    "\n",
    "def f2(x):\n",
    "    return np.exp(-1/(x*x))\n",
    "def df2(x):\n",
    "    return 2*np.exp(-1/(x*x))/x**3\n",
    "\n",
    "trash3,xarray3,success3=newton(f2,df2,1/2,40,0.0001)\n",
    "x_axis3=[x for x in range (len(xarray3))]\n",
    "abs_mist3=[abs(x) for x in xarray3]\n",
    "\n",
    "plt.plot(x_axis,abs_mist, label='f1 x0=2')\n",
    "plt.plot(x_axis2,abs_mist2, label='f1 x0=-1')\n",
    "plt.plot(x_axis3,abs_mist3, label='f1 x0=1/2')\n",
    "plt.legend()\n",
    "plt.show\n",
    "\n",
    "#we see that speed of convergence is quite different. the slower convergence towards the root at x=1 \n",
    "#with staring point x0=2 is due to f1 only touching the x axis in x=1\n",
    "#f2 is somewhat similar aside from f2 not really having a root and dw being almost 0 for all values around zero"
   ]
  },
  {
   "cell_type": "markdown",
   "metadata": {},
   "source": [
    "e) Das Wilkonson-Polynom ist definiert als $w(x) = \\prod_{k=0}^{20} (x-k)$.\n",
    "\n",
    "Schreiben Sie funktionen \"w\" und \"dw\", die das Wilkinson-Polynom sowie seine erste Ableitung an der Stelle $x$ auswerten.\n",
    "\n"
   ]
  },
  {
   "cell_type": "code",
   "execution_count": 226,
   "metadata": {},
   "outputs": [
    {
     "data": {
      "image/png": "[encoded data removed]",
      "text/plain": [
       "<matplotlib.figure.Figure at 0x2805285c470>"
      ]
     },
     "metadata": {},
     "output_type": "display_data"
    }
   ],
   "source": [
    "def w(x):\n",
    "\n",
    "        # to be done ...\n",
    "    return np.prod([x-k for k in range(0,21)]) #multiply all given values\n",
    "    \n",
    "    \n",
    "def dw(x):\n",
    "\n",
    "        # to be done ...\n",
    "    #to understand why this is the derivative check wikipedia \"product rule\"\n",
    "    array=np.zeros(21)\n",
    "    for i in range(21):\n",
    "        array[i]=np.prod([x-k for k in range(i)])*np.prod([x-k for k in range(i+1,21)])\n",
    "    return np.sum(array)\n",
    "\n",
    "\n",
    "#I wanted to confirm visually, that dw is correct\n",
    "b=np.linspace(5,15,1000)\n",
    "wv=[w(x) for x in b]\n",
    "dwv=[dw(x) for x in b]\n",
    "\n",
    "plt.plot(b,dwv,label='dw')\n",
    "plt.plot(b,wv,label='w')\n",
    "plt.legend()\n",
    "plt.show()\n",
    "\n"
   ]
  },
  {
   "cell_type": "markdown",
   "metadata": {},
   "source": [
    "f) Finden Sie experimentell jeweils einen Startwert $x_0$, für den das Newton-Verfahren angewandt auf $w$ gegen $x^* = 20$ bzw. $x^* = 6$ konvergiert. Betrachten Sie anschließend $\\tilde{w} = w(x) + \\delta \\cdot x^{19}$ für kleines $\\delta > 0$. Wie verhält sich das Newton-Verfahren angewandt auf $\\tilde{w}$ für die beiden Startwerte? Was passiert wenn $\\delta$ immer kleiner wird?\n"
   ]
  },
  {
   "cell_type": "code",
   "execution_count": 227,
   "metadata": {},
   "outputs": [
    {
     "name": "stdout",
     "output_type": "stream",
     "text": [
      "19.686000000000593 20.000000026318315 486\n",
      "20.9 20.000000001019753 0\n",
      "5.308000000000036 5.999999856071241 108\n",
      "6.5559999999998855 5.999999995767243 344\n"
     ]
    }
   ],
   "source": [
    "## Bestimme x_0 sodass Konvergenz gegen x^* = 20 bzw. 6 eintritt...  \n",
    "\n",
    "            # to be done...\n",
    "it=0 #to count iterations (so the function terminates and so we can see, how long it took)\n",
    "xupw20=19.2 #x upwards 20\n",
    "while it<10000:\n",
    "    finalx,trash1,trash2=newton(w,dw,xupw20,30,0.00001)\n",
    "    if abs(finalx-20)<0.001:\n",
    "        break\n",
    "    else:\n",
    "        it+=1\n",
    "        xupw20+=0.001\n",
    "print(xupw20,finalx,it)\n",
    "\n",
    "it=0\n",
    "xdow20=20.9\n",
    "while it<10000:\n",
    "    finalx,trash1,trash2=newton(w,dw,xdow20,30,0.00001)\n",
    "    if abs(finalx-20)<0.001:\n",
    "        break\n",
    "    else:\n",
    "        it+=1\n",
    "        xdow20-=0.001\n",
    "        \n",
    "print(xdow20,finalx,it)\n",
    "\n",
    "it=0\n",
    "xupw6=5.2 #x upwards 6\n",
    "while it<10000:\n",
    "    finalx,trash1,trash2=newton(w,dw,xupw6,30,0.00001)\n",
    "    if abs(finalx-6)<0.001:\n",
    "        break\n",
    "    else:\n",
    "        it+=1\n",
    "        xupw6+=0.001\n",
    "print(xupw6,finalx,it)\n",
    "\n",
    "it=0\n",
    "xdow6=6.9\n",
    "while it<10000:\n",
    "    finalx,trash1,trash2=newton(w,dw,xdow6,30,0.00001)\n",
    "    if abs(finalx-6)<0.001:\n",
    "        break\n",
    "    else:\n",
    "        it+=1\n",
    "        xdow6-=0.001\n",
    "        \n",
    "print(xdow6,finalx,it)\n",
    "    \n",
    "    "
   ]
  },
  {
   "cell_type": "code",
   "execution_count": 228,
   "metadata": {},
   "outputs": [
    {
     "name": "stdout",
     "output_type": "stream",
     "text": [
      "(7.656475522589078, [19.686000000000593, 18.649822907498095, 17.668223497832212, 16.738351136506736, 15.857348748953665, 15.022792289754205, 14.232075323024041, 13.48305235907153, 12.773430950698877, 12.101031319382974, 11.46431644863917, 10.861073316106173, 10.288360051589086, 9.747247604223638, 9.24073018000389, 8.750658733476744, 8.235228060255395, 7.820802102935922, 7.681013035366184, 7.657297258698083, 7.656475522589078], True)\n",
      "(7.656480063309558, [20.9, 19.89122621002068, 18.846927117087905, 17.854658543432105, 16.915048293883785, 16.02471961543292, 15.181360721266438, 14.382306331531668, 13.625354440465511, 12.908270115855995, 12.22877560221805, 11.585255146407297, 10.975761308130538, 10.397239726885088, 9.84961310011936, 9.336720172009294, 8.846656717143457, 8.337073178264497, 7.876202324068541, 7.6950129506854035, 7.6584100483981, 7.656480063309558], True)\n",
      "(5.999032751033633, [5.308000000000036, 4.4767817498861, 5.542685456443432, 6.293755934267946, 5.690341768537413, 6.021690182612298, 5.998583393528729, 5.999032751033633], True)\n",
      "(7.656480063309558, [20.9, 19.89122621002068, 18.846927117087905, 17.854658543432105, 16.915048293883785, 16.02471961543292, 15.181360721266438, 14.382306331531668, 13.625354440465511, 12.908270115855995, 12.22877560221805, 11.585255146407297, 10.975761308130538, 10.397239726885088, 9.84961310011936, 9.336720172009294, 8.846656717143457, 8.337073178264497, 7.876202324068541, 7.6950129506854035, 7.6584100483981, 7.656480063309558], True)\n"
     ]
    }
   ],
   "source": [
    "## Definiere das gestörte Wilkinson-Polynom für Störungsparameter delta\n",
    "delta = 1e-4\n",
    "def wtilde(x): \n",
    "    return w(x) + delta*x**19 \n",
    "\n",
    "def dwtilde(x): \n",
    "    return dw(x) + 19*delta*x**18\n",
    "\n",
    "## Newton-Verfahren für gestörtes Wilkinson-Polynom: \n",
    "\n",
    "            # to be done...\n",
    "print(newton(wtilde,dwtilde,xupw20,30,0.00001))\n",
    "print(newton(wtilde,dwtilde,xdow20,30,0.00001))\n",
    "print(newton(wtilde,dwtilde,xupw6,30,0.00001))\n",
    "print(newton(wtilde,dwtilde,xdow20,30,0.00001))\n",
    "\n",
    "#we see, that the roots of the function have changed drastically despite the seemingly minor chonge to the coefficients\n",
    "#now three of the four starting values converge towards a new root at roughly 7.6564.\n",
    "#it is also to be noted, that the root at 6 still seems to exist"
   ]
  },
  {
   "cell_type": "code",
   "execution_count": null,
   "metadata": {},
   "outputs": [],
   "source": []
  },
  {
   "cell_type": "code",
   "execution_count": null,
   "metadata": {},
   "outputs": [],
   "source": []
  },
  {
   "cell_type": "code",
   "execution_count": null,
   "metadata": {},
   "outputs": [],
   "source": []
  }
 ],
 "metadata": {
  "anaconda-cloud": {},
  "kernelspec": {
   "display_name": "Python 3",
   "language": "python",
   "name": "python3"
  },
  "language_info": {
   "codemirror_mode": {
    "name": "ipython",
    "version": 3
   },
   "file_extension": ".py",
   "mimetype": "text/x-python",
   "name": "python",
   "nbconvert_exporter": "python",
   "pygments_lexer": "ipython3",
   "version": "3.6.4"
  }
 },
 "nbformat": 4,
 "nbformat_minor": 1
}

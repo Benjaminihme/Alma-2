{
 "cells": [
  {
   "cell_type": "markdown",
   "metadata": {},
   "source": [
    "# Programmieraufgabe 2  "
   ]
  },
  {
   "cell_type": "markdown",
   "metadata": {},
   "source": [
    "<span style=\"font-weight: bold\">Wichtig: Damit alle ben&ouml;tigten Pakete richtig eingebunden werden, f&uuml;hren Sie die n&auml;chste Zelle einmal aus.</span>"
   ]
  },
  {
   "cell_type": "code",
   "execution_count": 1,
   "metadata": {},
   "outputs": [],
   "source": [
    "# some setup\n",
    "%matplotlib inline\n",
    "import numpy as np # makes numpy routines and data types available as np.[name ouf routine or data type]\n",
    "import matplotlib.pyplot as plt # makes plotting command available as plt.[name of command]\n",
    "from numpy import random\n",
    "from ipywidgets import interactive\n",
    "import scipy.stats\n",
    "\n",
    "random.seed(0)"
   ]
  },
  {
   "cell_type": "markdown",
   "metadata": {},
   "source": [
    "## a) Zahlenlotto\n",
    "Simulieren Sie das bekannte Zahlenlotto (6 aus 49) ohne Zusatzzahl.<br>\n",
    "<b>Eingabe:</b> Die Anzahl der Kugeln (zB: $m=49$), die Anzahl der zu ziehenden Kugeln (zB: $n=6$) einlesen. Ausserdem eine $n-$elementige Liste, die den Tip enth&auml;lt (zB: $L = [4,1,6,7,15,45]$ und die Anzahl $l$ der Ziehungen.<br>\n",
    "\n",
    "<b>Ausgabe</b>: Die absoluten H&auml;ufigkeiten von von \"Nullern\", \"Einern\", \"Zweiern\", \"Dreiern\", \"Vierern\", \"F&uuml;nfern\" und \"Sechsern\". Dabei geht es nur um die Anzahlen der mit dem Tip getroffenen Zahlen, die Reihenfolge spielt keine Rolle </b> \n",
    "\n"
   ]
  },
  {
   "cell_type": "markdown",
   "metadata": {},
   "source": [
    "Definieren Sie zun&auml;chst eine Funktion <b>draw()</b>, die das \"Ziehen ohne Zur&uuml;cklegen\" realisiert. "
   ]
  },
  {
   "cell_type": "code",
   "execution_count": 5,
   "metadata": {},
   "outputs": [
    {
     "name": "stdout",
     "output_type": "stream",
     "text": [
      "[1, 4, 10, 40, 45, 48]\n"
     ]
    }
   ],
   "source": [
    "def draw(m=49,n=6):\n",
    "    result=[] #set up list to fill with values\n",
    "    i=0 \n",
    "    while i<n: #do, while there arent n values in result\n",
    "        x=random.randint(1,m+1,1) #create a single random integer\n",
    "        if x not in result: #if it isnt in result \n",
    "            result.append(x[0]) #add it to result\n",
    "            i+=1 #increment counter\n",
    "    return sorted(result) \n",
    "\n",
    "    #result is a list of randomly drawn numbers out of {1,...,m}\n"
   ]
  },
  {
   "cell_type": "markdown",
   "metadata": {},
   "source": [
    "Wieviele Zahlen in den Listen $x$ und $y$ sind gleich? Dies soll die Funktion <b>compare()</b> liefern."
   ]
  },
  {
   "cell_type": "code",
   "execution_count": 21,
   "metadata": {},
   "outputs": [
    {
     "name": "stdout",
     "output_type": "stream",
     "text": [
      "3\n"
     ]
    }
   ],
   "source": [
    "def compare(x,y): #assuming numbers only occur once per list\n",
    "    count=0 #count the amount of equal values\n",
    "    for i in range(0, len(x)): #go through all positions in x\n",
    "        if x[i] in y: #if value x occurs in y\n",
    "            count+=1 #increment counter\n",
    "    return count\n",
    "    #count is the number of equal entries in the lists x and y\n",
    "    \n",
    "print(compare([1,2,5,7],[1,2,4,5]))"
   ]
  },
  {
   "cell_type": "code",
   "execution_count": 23,
   "metadata": {},
   "outputs": [
    {
     "name": "stdout",
     "output_type": "stream",
     "text": [
      "Anzahl der Kugeln: 49\n",
      "Anzahl der zu ziehenden Kugeln: 6\n",
      "Anzahl der Versuche: 1000\n",
      "Tip: 23,13,42,25,1,2\n",
      "[426. 431. 123.  18.   2.   0.]\n"
     ]
    }
   ],
   "source": [
    "#Main program\n",
    "\n",
    "random.seed(0)\n",
    "\n",
    "#input variables \n",
    "m = int(input(\"Anzahl der Kugeln: \"))\n",
    "n = int(input(\"Anzahl der zu ziehenden Kugeln: \"))\n",
    "l = int(input(\"Anzahl der Versuche: \"))\n",
    "x = (input(\"Tip: \"))\n",
    "#Input a list by [1,2,3,4,5,6]\n",
    "\n",
    "#make x a list of integers\n",
    "x=x.split(',')\n",
    "x=[int(a) for a in x] #also checking if x consists of integers\n",
    "#print(x)\n",
    "#error handling\n",
    "if len(x)!=n:\n",
    "    raise ValueError(\"wrong amount of integers entered\")\n",
    "for a in x:\n",
    "    if a>m or a<1:\n",
    "        raise ValueError(\"you have to enter integers with valuees from 1 to \",m)\n",
    "u,counts=np.unique(x, return_counts=True)\n",
    "if max(counts)>1:\n",
    "    raise ValueError(\"enter each number only once\")\n",
    "\n",
    "\n",
    "z = np.zeros(n) #0-array to increment, where exapctly that amount of numbers is equal\n",
    "\n",
    "#draw n random numbers l times an check, how many elements of draw and tip are equal\n",
    "for i in range(l):\n",
    "    y = draw(m,n)\n",
    "    equ = compare(x,y)\n",
    "    z[equ] += 1;\n",
    "print(z)\n"
   ]
  },
  {
   "cell_type": "markdown",
   "metadata": {},
   "source": [
    "#### b) W&uuml;rfeln \n",
    "\n",
    "(i)  Erzeugen Sie eine Liste mit $n = 100$ Zufallszahlen aus der Menge $\\{ 1,2,3,4,5,6 \\}$,\n",
    "und bestimmen Sie, wie oft die Zahl 6 in der Liste vorkommt. \n",
    "Welche Verteilung hat die Zufallsvariable $Z(\\omega)$, die dieses Zufallsexperiment modelliert?\n",
    "\n",
    "(ii)  Wir wiederholen das Experiment nun $l = 1000$ mal. \n",
    "Speichern  Sie  in  einer  Liste $z$ die beobachteten (relativen) H&auml;ufigkeiten der Zahl 6 in jeder der $l$ Stichproben von jeweils $n$ Zufallszahlen.\n",
    "\n",
    "(iii)  Die  Liste $z$ enth&auml;lt nun  $l$  (pseudozuf&auml;llige)  Realisierungen  der  Werte  der  Zufallsvariablen $Z$. \n",
    "Erstellen Sie ein Histogramm ($\\texttt{numpy.histogram}$) von $z$. \n",
    "Zeichnen Sie das Histogramm in  ein  Diagramm  zusammen  mit  der  Massenfunktion ($\\texttt{scipy.stats.binom.pmf}$) der  Zufallsvariablen $Z$ \n",
    "und vergleichen Sie.\n",
    "\n",
    "(iv)  Erstellen Sie mithilfe von $\\texttt{interactive}$ ein entsprechendes Histogramm f&uuml;r die ersten\n",
    "$k$ Werte der Liste $z$, wobei $k$ zwischen 1 und $l$ variiert werden kann. Was beobachten Sie?"
   ]
  },
  {
   "cell_type": "code",
   "execution_count": 11,
   "metadata": {},
   "outputs": [
    {
     "name": "stdout",
     "output_type": "stream",
     "text": [
      "[11 21 14 19 13 22]\n",
      "22\n"
     ]
    }
   ],
   "source": [
    "# model 100 dice throws\n",
    "\n",
    "x=random.randint(1,7,100)\n",
    "\n",
    "#how often does the number '6' occur\n",
    "u,counts=np.unique(x, return_counts=True) \n",
    "print(counts)\n",
    "print(counts[5])"
   ]
  },
  {
   "cell_type": "code",
   "execution_count": null,
   "metadata": {},
   "outputs": [],
   "source": []
  },
  {
   "cell_type": "code",
   "execution_count": 25,
   "metadata": {},
   "outputs": [],
   "source": [
    "# model 1000 tries (using different method)\n",
    "\n",
    "#create matrix to show how many times value has been achieved(for each try)\n",
    "mat=np.zeros((6,1000))\n",
    "\n",
    "#to 1000 experiments and each time \"roll dice\" 100 times and increment entry, if value has been achieved\n",
    "for l in range(0,1000):\n",
    "    for i in range(0,100):\n",
    "        mat[random.randint(0,6),l]+=1\n",
    "        \n",
    "#now create list with values for each experiment\n",
    "z=[a for a in mat[5]]\n",
    "\n"
   ]
  },
  {
   "cell_type": "code",
   "execution_count": 26,
   "metadata": {},
   "outputs": [
    {
     "data": {
      "text/plain": [
       "<function matplotlib.pyplot.show>"
      ]
     },
     "execution_count": 26,
     "metadata": {},
     "output_type": "execute_result"
    },
    {
     "data": {
      "image/png": "[encoded data removed]",
      "text/plain": [
       "<matplotlib.figure.Figure at 0x15ddb544a58>"
      ]
     },
     "metadata": {},
     "output_type": "display_data"
    }
   ],
   "source": [
    "#create bins for histogramm\n",
    "num_occur=[]\n",
    "\n",
    "k=5\n",
    "for i in range(25):\n",
    "    num_occur.append(k)\n",
    "    k+=1\n",
    "    \n",
    "#create histogramm \n",
    "plt.hist(z, num_occur, rwidth=0.6, label='experiment data')\n",
    "\n",
    "\n",
    "z2=[]\n",
    "for k in range(5,30):\n",
    "    z2.append(scipy.stats.binom.pmf(k,100,1/6)*1000) #multiply with 1000, to correlate to 1000 experiments\n",
    "\n",
    "#create plot\n",
    "plt.plot(num_occur,z2, label='expected results')\n",
    "\n",
    "plt.title(\"occurence of a '6' in 100 dice rolls\")\n",
    "plt.legend()\n",
    "plt.show"
   ]
  },
  {
   "cell_type": "code",
   "execution_count": 32,
   "metadata": {},
   "outputs": [
    {
     "data": {
      "application/vnd.jupyter.widget-view+json": {
       "model_id": "b5745f38fb634e1f93aa396685a8f116",
       "version_major": 2,
       "version_minor": 0
      },
      "text/html": [
       "<p>Failed to display Jupyter Widget of type <code>interactive</code>.</p>\n",
       "<p>\n",
       "  If you're reading this message in the Jupyter Notebook or JupyterLab Notebook, it may mean\n",
       "  that the widgets JavaScript is still loading. If this message persists, it\n",
       "  likely means that the widgets JavaScript library is either not installed or\n",
       "  not enabled. See the <a href=\"https://ipywidgets.readthedocs.io/en/stable/user_install.html\">Jupyter\n",
       "  Widgets Documentation</a> for setup instructions.\n",
       "</p>\n",
       "<p>\n",
       "  If you're reading this message in another frontend (for example, a static\n",
       "  rendering on GitHub or <a href=\"https://nbviewer.jupyter.org/\">NBViewer</a>),\n",
       "  it may mean that your frontend doesn't currently support widgets.\n",
       "</p>\n"
      ],
      "text/plain": [
       "interactive(children=(Dropdown(description='k', options=(0, 1, 2, 3, 4, 5, 6, 7, 8, 9, 10, 11, 12, 13, 14, 15, 16, 17, 18, 19, 20, 21, 22, 23, 24, 25, 26, 27, 28, 29, 30, 31, 32, 33, 34, 35, 36, 37, 38, 39, 40, 41, 42, 43, 44, 45, 46, 47, 48, 49, 50, 51, 52, 53, 54, 55, 56, 57, 58, 59, 60, 61, 62, 63, 64, 65, 66, 67, 68, 69, 70, 71, 72, 73, 74, 75, 76, 77, 78, 79, 80, 81, 82, 83, 84, 85, 86, 87, 88, 89, 90, 91, 92, 93, 94, 95, 96, 97, 98, 99, 100, 101, 102, 103, 104, 105, 106, 107, 108, 109, 110, 111, 112, 113, 114, 115, 116, 117, 118, 119, 120, 121, 122, 123, 124, 125, 126, 127, 128, 129, 130, 131, 132, 133, 134, 135, 136, 137, 138, 139, 140, 141, 142, 143, 144, 145, 146, 147, 148, 149, 150, 151, 152, 153, 154, 155, 156, 157, 158, 159, 160, 161, 162, 163, 164, 165, 166, 167, 168, 169, 170, 171, 172, 173, 174, 175, 176, 177, 178, 179, 180, 181, 182, 183, 184, 185, 186, 187, 188, 189, 190, 191, 192, 193, 194, 195, 196, 197, 198, 199, 200, 201, 202, 203, 204, 205, 206, 207, 208, 209, 210, 211, 212, 213, 214, 215, 216, 217, 218, 219, 220, 221, 222, 223, 224, 225, 226, 227, 228, 229, 230, 231, 232, 233, 234, 235, 236, 237, 238, 239, 240, 241, 242, 243, 244, 245, 246, 247, 248, 249, 250, 251, 252, 253, 254, 255, 256, 257, 258, 259, 260, 261, 262, 263, 264, 265, 266, 267, 268, 269, 270, 271, 272, 273, 274, 275, 276, 277, 278, 279, 280, 281, 282, 283, 284, 285, 286, 287, 288, 289, 290, 291, 292, 293, 294, 295, 296, 297, 298, 299, 300, 301, 302, 303, 304, 305, 306, 307, 308, 309, 310, 311, 312, 313, 314, 315, 316, 317, 318, 319, 320, 321, 322, 323, 324, 325, 326, 327, 328, 329, 330, 331, 332, 333, 334, 335, 336, 337, 338, 339, 340, 341, 342, 343, 344, 345, 346, 347, 348, 349, 350, 351, 352, 353, 354, 355, 356, 357, 358, 359, 360, 361, 362, 363, 364, 365, 366, 367, 368, 369, 370, 371, 372, 373, 374, 375, 376, 377, 378, 379, 380, 381, 382, 383, 384, 385, 386, 387, 388, 389, 390, 391, 392, 393, 394, 395, 396, 397, 398, 399, 400, 401, 402, 403, 404, 405, 406, 407, 408, 409, 410, 411, 412, 413, 414, 415, 416, 417, 418, 419, 420, 421, 422, 423, 424, 425, 426, 427, 428, 429, 430, 431, 432, 433, 434, 435, 436, 437, 438, 439, 440, 441, 442, 443, 444, 445, 446, 447, 448, 449, 450, 451, 452, 453, 454, 455, 456, 457, 458, 459, 460, 461, 462, 463, 464, 465, 466, 467, 468, 469, 470, 471, 472, 473, 474, 475, 476, 477, 478, 479, 480, 481, 482, 483, 484, 485, 486, 487, 488, 489, 490, 491, 492, 493, 494, 495, 496, 497, 498, 499, 500, 501, 502, 503, 504, 505, 506, 507, 508, 509, 510, 511, 512, 513, 514, 515, 516, 517, 518, 519, 520, 521, 522, 523, 524, 525, 526, 527, 528, 529, 530, 531, 532, 533, 534, 535, 536, 537, 538, 539, 540, 541, 542, 543, 544, 545, 546, 547, 548, 549, 550, 551, 552, 553, 554, 555, 556, 557, 558, 559, 560, 561, 562, 563, 564, 565, 566, 567, 568, 569, 570, 571, 572, 573, 574, 575, 576, 577, 578, 579, 580, 581, 582, 583, 584, 585, 586, 587, 588, 589, 590, 591, 592, 593, 594, 595, 596, 597, 598, 599, 600, 601, 602, 603, 604, 605, 606, 607, 608, 609, 610, 611, 612, 613, 614, 615, 616, 617, 618, 619, 620, 621, 622, 623, 624, 625, 626, 627, 628, 629, 630, 631, 632, 633, 634, 635, 636, 637, 638, 639, 640, 641, 642, 643, 644, 645, 646, 647, 648, 649, 650, 651, 652, 653, 654, 655, 656, 657, 658, 659, 660, 661, 662, 663, 664, 665, 666, 667, 668, 669, 670, 671, 672, 673, 674, 675, 676, 677, 678, 679, 680, 681, 682, 683, 684, 685, 686, 687, 688, 689, 690, 691, 692, 693, 694, 695, 696, 697, 698, 699, 700, 701, 702, 703, 704, 705, 706, 707, 708, 709, 710, 711, 712, 713, 714, 715, 716, 717, 718, 719, 720, 721, 722, 723, 724, 725, 726, 727, 728, 729, 730, 731, 732, 733, 734, 735, 736, 737, 738, 739, 740, 741, 742, 743, 744, 745, 746, 747, 748, 749, 750, 751, 752, 753, 754, 755, 756, 757, 758, 759, 760, 761, 762, 763, 764, 765, 766, 767, 768, 769, 770, 771, 772, 773, 774, 775, 776, 777, 778, 779, 780, 781, 782, 783, 784, 785, 786, 787, 788, 789, 790, 791, 792, 793, 794, 795, 796, 797, 798, 799, 800, 801, 802, 803, 804, 805, 806, 807, 808, 809, 810, 811, 812, 813, 814, 815, 816, 817, 818, 819, 820, 821, 822, 823, 824, 825, 826, 827, 828, 829, 830, 831, 832, 833, 834, 835, 836, 837, 838, 839, 840, 841, 842, 843, 844, 845, 846, 847, 848, 849, 850, 851, 852, 853, 854, 855, 856, 857, 858, 859, 860, 861, 862, 863, 864, 865, 866, 867, 868, 869, 870, 871, 872, 873, 874, 875, 876, 877, 878, 879, 880, 881, 882, 883, 884, 885, 886, 887, 888, 889, 890, 891, 892, 893, 894, 895, 896, 897, 898, 899, 900, 901, 902, 903, 904, 905, 906, 907, 908, 909, 910, 911, 912, 913, 914, 915, 916, 917, 918, 919, 920, 921, 922, 923, 924, 925, 926, 927, 928, 929, 930, 931, 932, 933, 934, 935, 936, 937, 938, 939, 940, 941, 942, 943, 944, 945, 946, 947, 948, 949, 950, 951, 952, 953, 954, 955, 956, 957, 958, 959, 960, 961, 962, 963, 964, 965, 966, 967, 968, 969, 970, 971, 972, 973, 974, 975, 976, 977, 978, 979, 980, 981, 982, 983, 984, 985, 986, 987, 988, 989, 990, 991, 992, 993, 994, 995, 996, 997, 998, 999, 1000), value=0), Output()), _dom_classes=('widget-interact',))"
      ]
     },
     "metadata": {},
     "output_type": "display_data"
    }
   ],
   "source": [
    "def show_hist_to(k):\n",
    "    plt.hist(z[:k], num_occur, rwidth=0.6)\n",
    "w=interactive(show_hist_to,k=range(0,1001))\n",
    "\n",
    "display(w)"
   ]
  },
  {
   "cell_type": "markdown",
   "metadata": {},
   "source": [
    "###### print(random.randint(0,6))"
   ]
  },
  {
   "cell_type": "code",
   "execution_count": null,
   "metadata": {},
   "outputs": [],
   "source": []
  },
  {
   "cell_type": "code",
   "execution_count": null,
   "metadata": {},
   "outputs": [],
   "source": []
  },
  {
   "cell_type": "code",
   "execution_count": null,
   "metadata": {},
   "outputs": [],
   "source": []
  }
 ],
 "metadata": {
  "anaconda-cloud": {},
  "kernelspec": {
   "display_name": "Python 3",
   "language": "python",
   "name": "python3"
  },
  "language_info": {
   "codemirror_mode": {
    "name": "ipython",
    "version": 3
   },
   "file_extension": ".py",
   "mimetype": "text/x-python",
   "name": "python",
   "nbconvert_exporter": "python",
   "pygments_lexer": "ipython3",
   "version": "3.6.4"
  },
  "widgets": {
   "state": {
    "dc3a3f1d23314758bf356f952c03d594": {
     "views": [
      {
       "cell_index": 4
      }
     ]
    }
   },
   "version": "1.2.0"
  }
 },
 "nbformat": 4,
 "nbformat_minor": 1
}

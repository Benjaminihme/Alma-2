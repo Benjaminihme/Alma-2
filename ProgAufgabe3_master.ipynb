{
 "cells": [
  {
   "cell_type": "markdown",
   "metadata": {},
   "source": [
    "# Programmieraufgabe 3  "
   ]
  },
  {
   "cell_type": "markdown",
   "metadata": {},
   "source": [
    "<span style=\"font-weight: bold\">Wichtig: Damit alle ben&ouml;tigten Pakete richtig eingebunden werden, f&uuml;hren Sie die n&auml;chste Zelle einmal aus.</span>"
   ]
  },
  {
   "cell_type": "code",
   "execution_count": 51,
   "metadata": {},
   "outputs": [],
   "source": [
    "import numpy as np # makes numpy routines and data types available as np.[name ouf routine or data type]\n",
    "import matplotlib.pyplot as plt # makes plotting command available as plt.[name of command]\n",
    "from numpy import random\n",
    "from numpy import linalg\n",
    "\n",
    "random.seed(0)"
   ]
  },
  {
   "cell_type": "markdown",
   "metadata": {},
   "source": [
    "## a) W&uuml;rfelspiel Seven-Eleven\n",
    "Simulieren Sie das Casino-W&uuml;rfelspiel Seven-Eleven (Craps).<br>\n",
    "Dabei wird mit zwei W&uuml;rfeln solange geworfen, bis entweder die\n",
    "Bank oder der Spieler gewonnen hat. Es sei $Y_k$ die Zufallsgr&ouml;sse f&uuml;r die Augensumme im\n",
    "$k$-ten Wurf. Der Spieler gewinnt, falls $Y_1 \\in \\{7, 11\\}$ oder $Y_k = Y_1$ f&uuml;r $k \\geq 2$. \n",
    "Die Bank gewinnt, falls $Y_1 \\in \\{2, 3, 12\\}$ oder $Y_k = 7$ f&uuml;r $k \\geq 2$.\n",
    "\n",
    "<ul>\n",
    "<li>F&uuml;hren Sie \\(10000\\) Simulationen des Spiels durch und bestimmen Sie die \n",
    "relative Gewinnh&auml;ufigkeit.</li>\n",
    "<li>Bestimmen Sie zudem die H&auml;aufigkeitsverteilung für die Dauer des Spiels \n",
    "bis einer der Zust&auml;nde \"Spieler gewinnt\" oder \"Bank gewinnt\" erreicht wird (denn dann terminiert das Spiel). </li>\n",
    "<li>Bestimmen Sie numerisch den Grenzwert $T^{\\ast} = \\lim\\limits_{k\\to \\infty} T^k$ und interpretieren Sie die \n",
    "  Eintr&auml;ge $T^{\\ast}_{1,2}$ und $T^{\\ast}_{1,3}$ auch im Hinblick auf Aufgabe 4b). \n",
    "    <b>Hinweis: </b> Aufpassen mit der Nullindizierung in Python!\n",
    "</ul>\n",
    "\n",
    "\n",
    "\n"
   ]
  },
  {
   "cell_type": "code",
   "execution_count": 52,
   "metadata": {},
   "outputs": [
    {
     "name": "stdout",
     "output_type": "stream",
     "text": [
      "Gewinnhaeufigkeit: 0.49400\n",
      "Mittlere Laenge: 3.35450\n"
     ]
    },
    {
     "data": {
      "image/png": "[encoded data removed]",
      "text/plain": [
       "<matplotlib.figure.Figure at 0x18e373162e8>"
      ]
     },
     "metadata": {},
     "output_type": "display_data"
    }
   ],
   "source": [
    "# \"initial\" ist die Augensumme im ersten Wurf...\n",
    "# spiel() ist eine Funktion, die die Spielphase nach dem ersten Wurf, simuliert. \n",
    "# spiel() soll ein Tupel zurueckgeben, das als erste Komponente \"gewonnen\" oder \"verloren\" enthaelt und \n",
    "# als zweite Komponente die Laenge des aktuellen Spiels\n",
    "\n",
    "def spiel(initial):\n",
    "    steps=1 #number of dice throws\n",
    "    terminated=False #to stop when won or lost\n",
    "    if initial in [7,11]: #check if already won\n",
    "        win=True\n",
    "        terminated=True\n",
    "    if initial in [2,3,12]: #check if already lost\n",
    "        win=False\n",
    "        terminated=True\n",
    "    \n",
    "    while terminated==False:\n",
    "        steps+=1\n",
    "        \n",
    "        dice1=random.randint(1,7,1)\n",
    "        dice2=random.randint(1,7,1)\n",
    "        \n",
    "        y=dice1+dice2\n",
    "        \n",
    "        if y==initial: #check wether won\n",
    "            terminated=True\n",
    "            win=True\n",
    "        if y==7: #check wether lost\n",
    "            terminated=True\n",
    "            win=False\n",
    "        \n",
    "    return win,steps\n",
    "    \n",
    "    \n",
    "#Wie oft gewwinne ich \n",
    "count = 0.\n",
    "#Wie oft wird das Spiel durchgefuehrt\n",
    "samples = 10000\n",
    "#Spieldauer in jedem Spiel, mit 0 initialisiert\n",
    "length = np.zeros(samples)\n",
    "for i in range(samples):\n",
    "    w = np.random.randint(1,7,2)\n",
    "    initial = np.sum(w)\n",
    "    \n",
    "    win,steps=spiel(initial)\n",
    "    \n",
    "    if win==True:\n",
    "        count+=1\n",
    "    \n",
    "    length[i]=steps\n",
    "    \n",
    "\n",
    "\n",
    "#Ausgabe:    \n",
    "\n",
    "#maximale Spiellaenge\n",
    "n = 30\n",
    "h = np.histogram(length,np.arange(0,n))\n",
    "print('Gewinnhaeufigkeit: %0.5f' % float(count/samples))\n",
    "print('Mittlere Laenge: %0.5f' % np.mean(length))\n",
    "#plt.plot(np.arange(0, 100 , 1),hist) \n",
    "plt.bar(np.arange(0,n-1), h[0], color=\"blue\");\n",
    "plt.show()\n"
   ]
  },
  {
   "cell_type": "code",
   "execution_count": 53,
   "metadata": {},
   "outputs": [
    {
     "name": "stdout",
     "output_type": "stream",
     "text": [
      "[[0.00000000e+00 4.92929049e-01 5.07070257e-01 2.99052782e-08\n",
      "  1.34370757e-07 5.30327733e-07]\n",
      " [0.00000000e+00 1.00000000e+00 0.00000000e+00 0.00000000e+00\n",
      "  0.00000000e+00 0.00000000e+00]\n",
      " [0.00000000e+00 0.00000000e+00 1.00000000e+00 0.00000000e+00\n",
      "  0.00000000e+00 0.00000000e+00]\n",
      " [0.00000000e+00 4.54545421e-01 5.45454505e-01 7.47631955e-08\n",
      "  0.00000000e+00 0.00000000e+00]\n",
      " [0.00000000e+00 3.99999825e-01 5.99999738e-01 0.00000000e+00\n",
      "  4.36704960e-07 0.00000000e+00]\n",
      " [0.00000000e+00 3.33332538e-01 6.66665076e-01 0.00000000e+00\n",
      "  0.00000000e+00 2.38647480e-06]]\n"
     ]
    }
   ],
   "source": [
    "#Lege die Uebergangsmatrix an\n",
    "T = np.array([[0 ,2/9 ,1/9 ,5/18 ,4/18,3/18  ],\n",
    "              [0 ,1   ,0   ,0    ,0    ,0    ],\n",
    "              [0 ,0   ,1   ,0    ,0    ,0    ],\n",
    "              [0 ,5/36,6/36,25/36,0    ,0    ],\n",
    "              [0 ,4/36,6/36,0    ,26/36,0    ],\n",
    "              [0 ,3/36,6/36,0    ,0    ,27/36]])\n",
    "\n",
    "\n",
    "\n",
    "#Potenziere die Matrix                \n",
    "Tk = T\n",
    "while abs(Tk[0,1]<0.492929):\n",
    "        Tk=np.matmul(Tk,T) \n",
    "print(Tk)\n"
   ]
  },
  {
   "cell_type": "markdown",
   "metadata": {},
   "source": [
    "## b) Irrsprung\n",
    "Simulieren Sie die zuf&auml;llige Irrfahrt eines Springers auf einem $n \\times n$ Schachbrett. Alle m&ouml;glichen R&ouml;sselspr&uuml;nge von einem gegebenen Feld aus sind dabei gleichwahrscheinlich ($\\rightarrow$ aufpassen an den Ecken und Kanten!). Die Eingabeparameter sind: $n$ als Schachbrettgr&ouml;sse, $steps$ als Anzahl der Spr&uuml;nge und $samples$ als Anzahl der Versuche. Der Springer wird initial zuf&auml;llig gleichverteilt auf eines der Felder gesetzt. Anschliessend springt der Springer $steps$ oft und landet auf einem Zielfeld. \n",
    "\n",
    "<ul>\n",
    "<li> Z&auml;hlen Sie f&uuml;r jedes Feld wir oft es bei $samples$ Versuchen Zielfeld geworden ist (nach $steps$ Spr&uuml;ngen) und stellen Sie die Ergebnisse graphisch dar. Sie k&ouml;nnen die Felder durchnummerieren und eine 2d-Plot verwenden.</li>\n",
    "\n",
    "<li> Erzeugen Sie die &Uuml;bergangsmatrix $A$ und n&auml;hern Sie die Grenzverteilung iterativ an. Vergleichen Sie diese mit den relativen H&auml;ufigkeiten. &Auml;ndern Sie auch die Startverteilung."
   ]
  },
  {
   "cell_type": "code",
   "execution_count": null,
   "metadata": {},
   "outputs": [],
   "source": []
  },
  {
   "cell_type": "code",
   "execution_count": 54,
   "metadata": {},
   "outputs": [],
   "source": [
    "#Erzeugen des \"Uebergangsgraphen\" und der Uebergangsmatrix, Parameter $n$ \n",
    "#Groesse des Schachbrettes\n",
    "def init(n):\n",
    "    l = [] #WTF is l supposed to be?\n",
    "    A = np.zeros((n*n,n*n))\n",
    "    for i in range(n):\n",
    "        for j in range(n):\n",
    "            #l.append() #WTF is this supposed to do?\n",
    "            \n",
    "            #now find all possible jumps from position (i,j)\n",
    "            pos_jumps=[] #list of possible jump-destinations\n",
    "            num_pos_jumps=0 #number of possible jumps from that position to determine the probability of each one\n",
    "            \n",
    "            #check all directions\n",
    "            if i+2 in range(n):\n",
    "                if j+1 in range(n):\n",
    "                    num_pos_jumps+=1\n",
    "                    pos_jumps.append([i+2,j+1])\n",
    "                if j-1 in range(n):\n",
    "                    num_pos_jumps+=1\n",
    "                    pos_jumps.append([i+2,j-1])\n",
    "                    \n",
    "            if i-2 in range(n):\n",
    "                if j+1 in range(n):\n",
    "                    num_pos_jumps+=1\n",
    "                    pos_jumps.append([i-2,j+1])\n",
    "                if j-1 in range(n):\n",
    "                    num_pos_jumps+=1\n",
    "                    pos_jumps.append([i-2,j-1])\n",
    "            \n",
    "            if i+1 in range(n):\n",
    "                if j+2 in range(n):\n",
    "                    num_pos_jumps+=1\n",
    "                    pos_jumps.append([i+1,j+2])\n",
    "                if j-2 in range(n):\n",
    "                    num_pos_jumps+=1\n",
    "                    pos_jumps.append([i+1,j-2])\n",
    "                    \n",
    "            if i-1 in range(n):\n",
    "                if j+2 in range(n):\n",
    "                    num_pos_jumps+=1\n",
    "                    pos_jumps.append([i-1,j+2])\n",
    "                if j-2 in range(n):\n",
    "                    num_pos_jumps+=1\n",
    "                    pos_jumps.append([i-1,j-2])\n",
    "                \n",
    "            #now add transit probabilities to transit matrix\n",
    "            for dest in pos_jumps:\n",
    "                if A[i*n+j,dest[0]*n+dest[1]]!=0:\n",
    "                    raise ValueError(\"transition probability already exists\") #for debugging\n",
    "                    \n",
    "                A[i*n+j,dest[0]*n+dest[1]]+=1/num_pos_jumps\n",
    "    \n",
    "          \n",
    "    return l,A\n",
    "\n",
    "dsf,dag=init(8)\n",
    "#Für Untersuchungen beachten: A ist periodisch mit periode 2 !!! \n",
    "\n"
   ]
  },
  {
   "cell_type": "code",
   "execution_count": 55,
   "metadata": {},
   "outputs": [
    {
     "name": "stdout",
     "output_type": "stream",
     "text": [
      "[ 6042.  8712. 11898. 11941. 11783. 11943.  9003.  5992.  8931. 11924.\n",
      " 17646. 17752. 17734. 17937. 11815.  8936. 11625. 17972. 23440. 23703.\n",
      " 23969. 23675. 17970. 12024. 11829. 17899. 23946. 23881. 23841. 23698.\n",
      " 17925. 11837. 11901. 17560. 23543. 23939. 23779. 24244. 17994. 12025.\n",
      " 11829. 17864. 23875. 24018. 24060. 24106. 17745. 12114.  8693. 11861.\n",
      " 17850. 18005. 17989. 17955. 12131.  8945.  5977.  9032. 11660. 12007.\n",
      " 12108. 11889.  9100.  5979.]\n"
     ]
    },
    {
     "data": {
      "image/png": "[encoded data removed]",
      "text/plain": [
       "<matplotlib.figure.Figure at 0x18e37854be0>"
      ]
     },
     "metadata": {},
     "output_type": "display_data"
    }
   ],
   "source": [
    "#Simulation\n",
    "n = 8\n",
    "steps = 1000\n",
    "samples = 1000\n",
    "chess_neighbors,A = init(n)\n",
    "chess_count = np.zeros(n*n)\n",
    "for k in range(samples):  \n",
    "    #insert code here \n",
    "    \n",
    "    i=int(random.randint(0,n,1)) #start at random position\n",
    "    j=int(random.randint(0,n,1))\n",
    "    \n",
    "    chess_count[n*i+j]+=1\n",
    "    \n",
    "    for s in range(steps):\n",
    "    #check all directions\n",
    "    \n",
    "        pos_jumps=[] #list of possible jump destinations\n",
    "        \n",
    "        if i+2 in range(n):\n",
    "            if j+1 in range(n):\n",
    "                pos_jumps.append([i+2,j+1])\n",
    "            if j-1 in range(n):\n",
    "                pos_jumps.append([i+2,j-1])\n",
    "                \n",
    "        if i-2 in range(n):\n",
    "            if j+1 in range(n):\n",
    "                 pos_jumps.append([i-2,j+1])\n",
    "            if j-1 in range(n):\n",
    "                   pos_jumps.append([i-2,j-1])\n",
    "           \n",
    "        if i+1 in range(n):\n",
    "            if j+2 in range(n):\n",
    "                pos_jumps.append([i+1,j+2])\n",
    "            if j-2 in range(n):\n",
    "                pos_jumps.append([i+1,j-2])\n",
    "                    \n",
    "        if i-1 in range(n):\n",
    "            if j+2 in range(n):\n",
    "                pos_jumps.append([i-1,j+2])\n",
    "            if j-2 in range(n):\n",
    "                pos_jumps.append([i-1,j-2])\n",
    "        \n",
    "        r=int(random.randint(0,len(pos_jumps),1))\n",
    "        \n",
    "        i=pos_jumps[r][0]\n",
    "        j=pos_jumps[r][1]\n",
    "\n",
    "        \n",
    "        chess_count[n*i+j]+=1\n",
    "    \n",
    "#Ausgabe\n",
    "print(chess_count)\n",
    "plt.bar(np.arange(0,n*n,1),chess_count/samples, width=0.6)\n",
    "plt.show()\n"
   ]
  },
  {
   "cell_type": "code",
   "execution_count": 57,
   "metadata": {},
   "outputs": [
    {
     "data": {
      "image/png": "[encoded data removed]",
      "text/plain": [
       "<matplotlib.figure.Figure at 0x18e38f5d8d0>"
      ]
     },
     "metadata": {},
     "output_type": "display_data"
    }
   ],
   "source": [
    "#Startverteilung \n",
    "b = np.zeros(n*n)\n",
    "for l in range(n*n): b[i]=1./(n*n)\n",
    "    \n",
    "\n",
    "#insert code here\n",
    "asdf,A=init(8)\n",
    "\n",
    "X=np.linalg.matrix_power(A,101)\n",
    "Y=np.linalg.matrix_power(A,100)\n",
    "Z=X+Y\n",
    "\n",
    "res=np.matmul(b,Z)\n",
    "\n",
    "\n",
    "#Ausgabeplot\n",
    "\n",
    "#insert code here\n",
    "plt.bar(np.arange(0,n*n,1),res, width=0.6)\n",
    "plt.show()\n"
   ]
  },
  {
   "cell_type": "code",
   "execution_count": 58,
   "metadata": {},
   "outputs": [
    {
     "data": {
      "image/png": "[encoded data removed]",
      "text/plain": [
       "<matplotlib.figure.Figure at 0x18e38f5de48>"
      ]
     },
     "metadata": {},
     "output_type": "display_data"
    }
   ],
   "source": [
    "#Startverteilung \n",
    "b = np.zeros(n*n)\n",
    "b[0]=1\n",
    "    \n",
    "\n",
    "#insert code here\n",
    "asdf,A=init(8)\n",
    "\n",
    "X=np.linalg.matrix_power(A,101)\n",
    "Y=np.linalg.matrix_power(A,100)\n",
    "Z=X+Y\n",
    "\n",
    "res=np.matmul(b,Z)\n",
    "\n",
    "\n",
    "#Ausgabeplot\n",
    "\n",
    "#insert code here\n",
    "plt.bar(np.arange(0,n*n,1),res, width=0.6)\n",
    "plt.show()"
   ]
  },
  {
   "cell_type": "code",
   "execution_count": null,
   "metadata": {},
   "outputs": [],
   "source": []
  },
  {
   "cell_type": "code",
   "execution_count": null,
   "metadata": {},
   "outputs": [],
   "source": []
  },
  {
   "cell_type": "code",
   "execution_count": null,
   "metadata": {},
   "outputs": [],
   "source": []
  },
  {
   "cell_type": "code",
   "execution_count": null,
   "metadata": {},
   "outputs": [],
   "source": []
  },
  {
   "cell_type": "code",
   "execution_count": null,
   "metadata": {},
   "outputs": [],
   "source": []
  },
  {
   "cell_type": "code",
   "execution_count": null,
   "metadata": {},
   "outputs": [],
   "source": []
  }
 ],
 "metadata": {
  "anaconda-cloud": {},
  "kernelspec": {
   "display_name": "Python 3",
   "language": "python",
   "name": "python3"
  },
  "language_info": {
   "codemirror_mode": {
    "name": "ipython",
    "version": 3
   },
   "file_extension": ".py",
   "mimetype": "text/x-python",
   "name": "python",
   "nbconvert_exporter": "python",
   "pygments_lexer": "ipython3",
   "version": "3.6.4"
  },
  "widgets": {
   "state": {
    "dc3a3f1d23314758bf356f952c03d594": {
     "views": [
      {
       "cell_index": 4
      }
     ]
    }
   },
   "version": "1.2.0"
  }
 },
 "nbformat": 4,
 "nbformat_minor": 2
}

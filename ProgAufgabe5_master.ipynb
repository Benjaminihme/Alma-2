{
 "cells": [
  {
   "cell_type": "markdown",
   "metadata": {},
   "source": [
    "##  Programmieraufgabe 5"
   ]
  },
  {
   "cell_type": "code",
   "execution_count": 4,
   "metadata": {},
   "outputs": [],
   "source": [
    "# some setup\n",
    "%matplotlib inline\n",
    "import numpy as np \n",
    "import matplotlib.pyplot as plt "
   ]
  },
  {
   "cell_type": "markdown",
   "metadata": {},
   "source": [
    "## Trigonometrische Interpolation und Schnelle Fourier-Transformation\n",
    "\n",
    "Gegeben seien eine $2 \\pi$-periodische Funktion $f$ und $n$ äquidistante Stützstellen auf $[0,2 \\pi)$, d.h.\n",
    "\n",
    " \\begin{equation}\n",
    " (x_0,y_0),\\dots,(x_{n-1},y_{n-1})\n",
    " \\end{equation}\n",
    " mit\n",
    " \\begin{align}\n",
    " x_k &= 2 \\pi \\frac{k}{n} \\\\\n",
    " y_k &= f(x_k) \\ ,\n",
    " \\end{align}\n",
    " für $k \\in \\{0,\\dots,n-1\\}$.\n",
    " \n",
    " In der Vorlesung wurde gezeigt, dass das trigonometrische Polynom\n",
    " \\begin{equation}\n",
    " p(x) = \\frac{1}{n} \\sum^{n-1}_{l=0} \\beta_l \\, e^{i l x}\n",
    " \\end{equation}\n",
    "die Interpolationsaufgabe $p(x_k)=y_k$ genau dann löst, wenn gilt:\n",
    "\\begin{equation}\n",
    " \\beta_k = \\sum^{n-1}_{l=0} y_l \\, e^{-i k x_l} = \\sum^{n-1}_{l=0} y_l \\, e^{-i 2\\pi \\frac{kl}{n}} =: \\bigl(A \\, y \\bigr)_k\n",
    " \\end{equation}\n",
    "Beachten Sie, dass der Normierungsfaktor $\\frac{1}{n}$ gegenüber der Vorlesung nach $p(x)$ geschoben wurde, um mit der Konvention von _numpy_ übereinzustimmen.\n",
    "\n",
    "Den Vektor $\\beta$ nennt man auch die _Diskrete Fourier-Transformierte_ des Vektors $y$.\n",
    "\n",
    "\n",
    "a) Implementieren Sie eine Funktionen, die die Diskrete Fourier-Transformierte eines Vektors berechnet, indem sie die Fourier-Koeffizientenmatrix $A$ aufstellt und anschließend eine Matrix-Vektor-Multiplikation durchführt. Verfahren Sie analog für die inverse DFT."
   ]
  },
  {
   "cell_type": "code",
   "execution_count": 49,
   "metadata": {},
   "outputs": [],
   "source": [
    "# a)\n",
    "def calcDFT(y):\n",
    "    n = len(y)\n",
    "    if type(y)==list:\n",
    "        raise TypeError(\"vector has to be given in numpy matrix format\")\n",
    "    #print(\"length of y is\",len(y))\n",
    "    # Die imaginäre Einheit in python ist 'j', die zugehörige Zahlendarstellung 0.+1.j oder kurz 1j\n",
    "    # 'fromfunction' erzeugt ein Array durch Funktionsauswertung, 'lambda' ist die syntax für eine anonyme Funktion\n",
    "    \n",
    "    # Fourier-Matrix\n",
    "    ### INSERT CODE ###\n",
    "    Tn_star=np.zeros((n,n),dtype=np.complex_) #create an empty matrix of complex numbers \n",
    "    for i in range(n): #fill it with the arguments for the exponential function\n",
    "        for k in range(n):\n",
    "            Tn_star[i,k]=-i*k*1.j*2*np.pi/n\n",
    "        #Tn[k,i]=1.j\n",
    "    Tn_star=np.exp(Tn_star) #use the exp function on every entry in Matrix\n",
    "    \n",
    "    # Matrix-Vektor-Multiplikation\n",
    "    \n",
    "    ### INSERT CODE ### \n",
    "    #print(Tn_star)\n",
    "    return np.dot(Tn_star,y) #return the matrix multiplication of \n",
    "\n",
    "\n",
    "def calcInvDFT(betta):\n",
    "    n = len(betta)\n",
    "    if type(betta)==list:\n",
    "        raise TypeError(\"vector has to be given in numpy matrix format\")\n",
    "    # inverse Fourier-Matrix\n",
    "    ### INSERT CODE ###\n",
    "    Tn=np.zeros((n,n),dtype=np.complex_) #create an empty matrix of complex numbers \n",
    "    for i in range(n): #fill it with the arguments for the exponential function\n",
    "        for k in range(n):\n",
    "            Tn[i,k]=i*k*1.j*2*np.pi/n\n",
    "        #Tn[k,i]=1.j\n",
    "    Tn=np.exp(Tn) #use the exp function on every entry in Matrix\n",
    "    \n",
    "    # inverse Fourier-Matrix\n",
    "    ### INSERT CODE ###\n",
    "    \n",
    "    # Matrix-Vektor-Multiplikation\n",
    "    ### INSERT CODE ###\n",
    "    return np.dot(Tn,betta)\n",
    "\n",
    "#testing data\n",
    "#y=np.matrix('1;2;3;4')\n",
    "#betta=calcDFT(y)\n",
    "#print(betta)\n",
    "#betta=(1/4)*betta\n",
    "#print(calcInvDFT(betta))"
   ]
  },
  {
   "cell_type": "markdown",
   "metadata": {},
   "source": [
    "b) Implementieren Sie (von Hand) die in der Vorlesung gezeigte _Schnelle Fourier-Transformation (FFT)_ nach _Cooley und Tukey_ in eine Funktion, die als Eingabe einen Vektor $y$ nimmt, und dessen Diskrete Fourier-Transformierte zurückgibt. Erstellen Sie eine zweite Funktion, die die inverse Transformation übernimmt. Beachten Sie, dass die Länge $n$ des Eingangsvektors eine Zweierpotenz sein muss."
   ]
  },
  {
   "cell_type": "code",
   "execution_count": 50,
   "metadata": {},
   "outputs": [],
   "source": [
    "# b)\n",
    "def calcFFT(y):\n",
    "    # Rekursiver FFT-Algorithmus\n",
    "    n = len(y)\n",
    "    if n==1:\n",
    "        return y\n",
    "    else:\n",
    "        # Prüft in jeder Instanz, ob n (noch) gerade ist\n",
    "        ### INSERT CODE ###\n",
    "        if n%2!=0: #check if n is multiple of 2\n",
    "            raise ValueError(\"Length of given vector has to be 2^m\")\n",
    "        \n",
    "        \n",
    "        # Auftrennen in gerade und ungerade Indizes\n",
    "        # y[a:b:s] bedeutet Index-Range von a bis b-1 in Schrittweite s, [::] ist kurz für [Anfang:Ende:1]\n",
    "        ### INSERT CODE ###\n",
    "        y_even=calcFFT(y[::2]) #split list to calculate recursive\n",
    "        y_odd=calcFFT(y[1::2])\n",
    "        \n",
    "        # Zusammenfügen der Teilergebnisse (durch numpy's broadcasting spart man sich for-Schleifen)\n",
    "        ### INSERT CODE ###\n",
    "        \n",
    "        \n",
    "        Omega=np.zeros(n//2, dtype=np.complex_) #create omega vector from lecture\n",
    "        for k in range(n//2):\n",
    "            Omega[k]=np.exp(-2*(np.pi)*1.j*k/n)\n",
    "        \n",
    "        #compute c[i] for all i\n",
    "        c1=Omega*y_odd\n",
    "        c1=y_even+c1\n",
    "        \n",
    "        c2=Omega*y_odd\n",
    "        c2=y_even-c2\n",
    "        \n",
    "        #concantenate them to one vector\n",
    "        c=np.concatenate((c1,c2))\n",
    "        \n",
    "        \n",
    "        return c\n",
    "    \n",
    "def calcInvFFT(y):\n",
    "    n = len(y)\n",
    "    if n==1:\n",
    "        return y\n",
    "    else:\n",
    "        ### INSERT CODE ###\n",
    "        \n",
    "        # Prüft in jeder Instanz, ob n (noch) gerade ist\n",
    "        ### INSERT CODE ###\n",
    "        if n%2!=0: #check if n is multiple of 2\n",
    "            raise ValueError(\"Length of given vector has to be 2^m\")\n",
    "        \n",
    "        \n",
    "        # Auftrennen in gerade und ungerade Indizes\n",
    "        # y[a:b:s] bedeutet Index-Range von a bis b-1 in Schrittweite s, [::] ist kurz für [Anfang:Ende:1]\n",
    "        ### INSERT CODE ###\n",
    "        y_even=calcFFT(y[::2]) #split list to calculate recursive\n",
    "        y_odd=calcFFT(y[1::2])\n",
    "        \n",
    "        # Zusammenfügen der Teilergebnisse (durch numpy's broadcasting spart man sich for-Schleifen)\n",
    "        ### INSERT CODE ##\n",
    "        \n",
    "        \n",
    "        Omega=np.zeros(n//2, dtype=np.complex_)\n",
    "        for k in range(n//2):\n",
    "            Omega[k]=np.exp(2*(np.pi)*1.j*k/n)\n",
    "        \n",
    "        c1=Omega*y_odd\n",
    "        c1=y_even+c1\n",
    "        \n",
    "        c2=Omega*y_odd\n",
    "        c2=y_even-c2\n",
    "        \n",
    "        c=np.concatenate((c1,c2))\n",
    "        \n",
    "        \n",
    "        return c # Normierung! #original war normierum c/2 was auch immer das sollte\n",
    "    \n",
    "#testdaten\n",
    "#y=np.array([1,2,3,4])\n",
    "#betta=calcFFT(y)\n",
    "#print(betta)\n",
    "#betta=(1/4)*betta\n",
    "#print(calcInvFFT(betta))"
   ]
  },
  {
   "cell_type": "markdown",
   "metadata": {},
   "source": [
    "c) Machen Sie sich mit dem Modul _numpy.fft_ vertraut, insbesondere mit den Routinen _fft_ und _ifft_.\n",
    "\n",
    "d) Betrachten Sie nun die Funktion $f(t) = \\cos(10 t) + \\cos(5 t)$. Erstellen Sie ein Array $y_k = f(x_k)$ für $n=16$ und wenden Sie mit jeder der Methoden aus Teilaufgabe a)-c) die Diskrete Fourier Transformation an.\n",
    "Gilt jeweils $\\text{iDFT}(\\text{DFT}(y)) = y$ ?  \n",
    "Vergleichen Sie die Methoden untereinander. Erhalten Sie jeweils das gleiche Ergebnis oder gibt es numerische Abweichungen? Ermitteln Sie den Laufzeit-Unterschied für verschiedene (große) $n$ mittels _%timeit_ ."
   ]
  },
  {
   "cell_type": "code",
   "execution_count": 52,
   "metadata": {},
   "outputs": [
    {
     "name": "stdout",
     "output_type": "stream",
     "text": [
      "Naive Lösung:\n",
      "[ 2.00000000e+00+0.00000000e+00j  2.02672995e+00+4.03141653e-01j\n",
      "  2.12132034e+00+8.78679656e-01j  2.34968175e+00+1.57000715e+00j\n",
      "  3.00000000e+00+3.00000000e+00j  7.89295894e+00+1.18126478e+01j\n",
      " -2.12132034e+00-5.12132034e+00j -2.69370641e-01-1.35421766e+00j\n",
      "  2.88657986e-15-9.43225628e-15j -2.69370641e-01+1.35421766e+00j\n",
      " -2.12132034e+00+5.12132034e+00j  7.89295894e+00-1.18126478e+01j\n",
      "  3.00000000e+00-3.00000000e+00j  2.34968175e+00-1.57000715e+00j\n",
      "  2.12132034e+00-8.78679656e-01j  2.02672995e+00-4.03141653e-01j]\n",
      "Eigene FFT:\n",
      "[ 2.00000000e+00 +0.        j  2.02672995e+00 +0.40314165j\n",
      "  2.12132034e+00 +0.87867966j  2.34968175e+00 +1.57000715j\n",
      "  3.00000000e+00 +3.        j  7.89295894e+00+11.81264784j\n",
      " -2.12132034e+00 -5.12132034j -2.69370641e-01 -1.35421766j\n",
      "  3.10862447e-15 +0.        j -2.69370641e-01 +1.35421766j\n",
      " -2.12132034e+00 +5.12132034j  7.89295894e+00-11.81264784j\n",
      "  3.00000000e+00 -3.        j  2.34968175e+00 -1.57000715j\n",
      "  2.12132034e+00 -0.87867966j  2.02672995e+00 -0.40314165j]\n",
      "Numpy FFT:\n",
      "[ 2.00000000e+00 +0.        j  2.02672995e+00 +0.40314165j\n",
      "  2.12132034e+00 +0.87867966j  2.34968175e+00 +1.57000715j\n",
      "  3.00000000e+00 +3.        j  7.89295894e+00+11.81264784j\n",
      " -2.12132034e+00 -5.12132034j -2.69370641e-01 -1.35421766j\n",
      "  3.10862447e-15 +0.        j -2.69370641e-01 +1.35421766j\n",
      " -2.12132034e+00 +5.12132034j  7.89295894e+00-11.81264784j\n",
      "  3.00000000e+00 -3.        j  2.34968175e+00 -1.57000715j\n",
      "  2.12132034e+00 -0.87867966j  2.02672995e+00 -0.40314165j]\n",
      "FFT = FFT?\n",
      "max difference of python FFT and own FFT is\n",
      "(1.4210854715202004e-14+5.329070518200751e-15j)\n"
     ]
    }
   ],
   "source": [
    "# d)\n",
    "\n",
    "n = 16\n",
    "\n",
    "# Erzeuge Stützstellen (z.B. np.linspace)\n",
    "### INSERT CODE ###\n",
    "x=np.linspace(0.0,2*np.pi,n)\n",
    "\n",
    "#create function values\n",
    "y1=np.cos(10*x)\n",
    "y2=np.cos(5*x)\n",
    "\n",
    "y=y1+y2\n",
    "\n",
    "#plt.plot(x,y)\n",
    "#plt.show()\n",
    "\n",
    "# Gib die DFT aus und prüfe die Inverse\n",
    "print('Naive Lösung:')\n",
    "### INSERT CODE ###\n",
    "B1=calcDFT(y)\n",
    "print(B1)\n",
    "\n",
    "print('Eigene FFT:')\n",
    "### INSERT CODE ###\n",
    "B2=calcFFT(y)\n",
    "print(B2)\n",
    "\n",
    "print('Numpy FFT:')\n",
    "### INSERT CODE ###\n",
    "B3=np.fft.fft(y)\n",
    "print(B3)\n",
    "\n",
    "# Vergleiche calcFFT und np.fft.fft:\n",
    "print('FFT = FFT?')\n",
    "Diff=B2-B3\n",
    "\n",
    "#maximum of difference\n",
    "print(\"max difference of python FFT and own FFT is\")\n",
    "print(np.max(Diff))"
   ]
  },
  {
   "cell_type": "code",
   "execution_count": 48,
   "metadata": {},
   "outputs": [
    {
     "name": "stdout",
     "output_type": "stream",
     "text": [
      "Zeit für naive DFT:\n",
      "2.39 s ± 90.3 ms per loop (mean ± std. dev. of 7 runs, 1 loop each)\n",
      "Zeit für eigene FFT:\n",
      "34.4 ms ± 4.85 ms per loop (mean ± std. dev. of 7 runs, 10 loops each)\n",
      "Zeit für numpy FFT:\n",
      "47.5 µs ± 4.29 µs per loop (mean ± std. dev. of 7 runs, 10000 loops each)\n"
     ]
    }
   ],
   "source": [
    "# immernoch d)\n",
    "n=2048\n",
    "\n",
    "# Erzeuge Stützstellen\n",
    "### COPY CODE FROM ABOVE ###\n",
    "x=np.linspace(0.0,2*np.pi,n)\n",
    "\n",
    "#create function values\n",
    "y1=np.cos(10*x)\n",
    "y2=np.cos(5*x)\n",
    "\n",
    "y=y1+y2\n",
    "\n",
    "# Prüfe Laufzeit (siehe %timeit in der ipython Dokumentation)\n",
    "print(\"Zeit für naive DFT:\")\n",
    "%timeit calcDFT(y)\n",
    "\n",
    "print(\"Zeit für eigene FFT:\")\n",
    "%timeit calcFFT(y)\n",
    "print(\"Zeit für numpy FFT:\")\n",
    "### INSERT CODE ###\n",
    "%timeit np.fft.fft(y)"
   ]
  },
  {
   "cell_type": "markdown",
   "metadata": {},
   "source": [
    "e ) Konstruieren Sie aus den $\\beta_k$ die Koeffizienten $a_k,b_k$ der reellen Darstellung $q(t)$ des Interpolationspolynoms, siehe dazu S. 169 f. des [alternativen Vorlsungsskripts](http://www.ins.uni-bonn.de/teaching/vorlesungen/AlMaWS13/script.pdf) (beschränken Sie sich auf den Fall gerader $n$). Plotten Sie schließlich die Funktion $f(t)$ sowie das resultierende Interpolationspolynom $q(t)$ für verschiedene $n$ auf ganz $[0,2 \\pi)$. Was fällt Ihnen auf? Wie sieht es aus für z.B. $g(t) = 2\\, \\, \\bigl| \\frac{t}{\\pi}-1\\,\\bigr| -1 $?"
   ]
  },
  {
   "cell_type": "code",
   "execution_count": 47,
   "metadata": {
    "scrolled": true
   },
   "outputs": [
    {
     "name": "stderr",
     "output_type": "stream",
     "text": [
      "C:\\Users\\ASUS\\Anaconda3\\lib\\site-packages\\numpy\\core\\numeric.py:492: ComplexWarning: Casting complex values to real discards the imaginary part\n",
      "  return array(a, dtype, copy=False, order=order)\n"
     ]
    },
    {
     "data": {
      "image/png": "[encoded data removed]",
      "text/plain": [
       "<matplotlib.figure.Figure at 0x18a1195c2e8>"
      ]
     },
     "metadata": {},
     "output_type": "display_data"
    }
   ],
   "source": [
    "# e)\n",
    "n = 32\n",
    "\n",
    "# Funktion f\n",
    "f = lambda t: np.cos(10*t)+np.cos(5*t)\n",
    "# Alternative Funktion\n",
    "#f = lambda t:\n",
    "\n",
    "# berechne FFT (mit n sampling points)\n",
    "### INSERT CODE ###\n",
    "x=np.linspace(0.0,2*np.pi,n)\n",
    "y=np.array([f(t) for t in x])\n",
    "\n",
    "betta =1/n*np.fft.fft(y)\n",
    "\n",
    "\n",
    "\n",
    "m = int(n/2)\n",
    "# Berechne a_k und b_k\n",
    "### INSERT CODE ###\n",
    "a=np.zeros(m, dtype=np.complex_)\n",
    "b=np.zeros(m,dtype=np.complex_)\n",
    "\n",
    "a[0]=2*betta[0]\n",
    "for l in range(1,m):\n",
    "    a[l]=betta[l]+betta[n-l]\n",
    "    b[l]=1.j*(betta[l]+betta[n-l])\n",
    "\n",
    "# konstruiere Interpolationspolynom\n",
    "#q = lambda t: \n",
    "def q(t):\n",
    "### INSERT CODE ###\n",
    "    cs=np.cos(t*np.arange(float(m))) #fill with cos(l*t)\n",
    "    sn=np.sin(t*np.arange(float(m))) #fill with sin(l*t)\n",
    "    cs=a*cs #multiply with DFT coefficients\n",
    "    sn=b*sn\n",
    "    cs[0]=0\n",
    "    sn[0]=0\n",
    "    \n",
    "    return np.sum(cs)+np.sum(sn)+a[0]/2+2*betta[m]/2*np.cos(m*t)\n",
    "    \n",
    "    \n",
    "\n",
    "# vorhergehende Funktion lässt sich nicht ohne weiteres auf ein numpy-array broadcasten. Erzeuge eine Universal-function:\n",
    "Uq = np.frompyfunc(q,1,1)\n",
    "\n",
    "\n",
    "\n",
    "#konstruiere hochaufgelöstes Gitter für pyplot (mit N sampling points)\n",
    "N = 1000\n",
    "r = np.linspace(0,2*np.pi,N,endpoint=False)\n",
    "# Werte f und q auf diesem Gitter aus\n",
    "yf = f(r)\n",
    "yq = Uq(r)\n",
    "\n",
    "# Plotte Funktion und Interpolierende mit pyplot\n",
    "plt.plot( r, yf, '-b')\n",
    "plt.plot( r, yq, '-r')\n",
    "plt.show()"
   ]
  },
  {
   "cell_type": "markdown",
   "metadata": {},
   "source": [
    "f) Fügen Sie den Daten der Funktion $f$ für $n=1024$ Rauschen hinzu, mittels\n",
    "\\begin{equation}\n",
    "\\bar{y}_k = y_k + X_k \\ , \\quad X_k \\sim U(-\\delta,\\delta) \\, .\n",
    "\\end{equation}\n",
    "Berechnen Sie die Fourier-Transformierte und filtern Sie das Rauschen heraus, indem Sie alle Einträge mit $|\\bar{\\beta}_k| < \\epsilon \\cdot n$ für ein $\\epsilon>0$ auf Null setzen. Führen Sie anschließend die Rücktransformation durch.\n",
    "Plotten Sie die verrauschten sowie die bereinigten Daten für verschiedene $\\delta$ und $\\epsilon$."
   ]
  },
  {
   "cell_type": "code",
   "execution_count": 55,
   "metadata": {},
   "outputs": [
    {
     "data": {
      "image/png": "[encoded data removed]",
      "text/plain": [
       "<matplotlib.figure.Figure at 0x18a11a47d30>"
      ]
     },
     "metadata": {},
     "output_type": "display_data"
    },
    {
     "name": "stderr",
     "output_type": "stream",
     "text": [
      "C:\\Users\\ASUS\\Anaconda3\\lib\\site-packages\\numpy\\core\\numeric.py:492: ComplexWarning: Casting complex values to real discards the imaginary part\n",
      "  return array(a, dtype, copy=False, order=order)\n"
     ]
    },
    {
     "data": {
      "image/png": "[encoded data removed]",
      "text/plain": [
       "<matplotlib.figure.Figure at 0x18a12d6e390>"
      ]
     },
     "metadata": {},
     "output_type": "display_data"
    }
   ],
   "source": [
    "# f)\n",
    "#parameter\n",
    "delta = 1\n",
    "epsilon = 0.2\n",
    "\n",
    "np.random.seed(0)\n",
    "\n",
    "# konstruiere hochaufgelöstes Gitter\n",
    "n = 1024\n",
    "r = np.linspace(0,2*np.pi,n,endpoint=False)\n",
    "\n",
    "# Funktion f\n",
    "### COPY CODE FROM ABOVE ###\n",
    "f = lambda t: np.cos(10*t)+np.cos(5*t)\n",
    "\n",
    "# konstruiere verrauschtes Signal\n",
    "### INSERT CODE ###\n",
    "yf = np.array([f(t)+np.random.uniform(-delta,delta) for t in r])\n",
    "\n",
    "# konstruiere entrauschtes Signal\n",
    "### INSERT CODE ###\n",
    "betta=1/n*betta\n",
    "betta=np.fft.fft(yf)\n",
    "for k in range(len(betta)):\n",
    "    if np.absolute(betta[k])<epsilon*n:\n",
    "        betta[k]=0\n",
    "\n",
    "\n",
    "yfC = np.fft.ifft(betta)\n",
    "\n",
    "\n",
    "# Plotte beide Signale\n",
    "plt.plot( r, yf, '-b')\n",
    "plt.show()\n",
    "plt.plot( r, yfC, '-r')\n",
    "plt.show()"
   ]
  },
  {
   "cell_type": "code",
   "execution_count": null,
   "metadata": {},
   "outputs": [],
   "source": []
  },
  {
   "cell_type": "code",
   "execution_count": null,
   "metadata": {},
   "outputs": [],
   "source": []
  },
  {
   "cell_type": "code",
   "execution_count": null,
   "metadata": {},
   "outputs": [],
   "source": []
  },
  {
   "cell_type": "code",
   "execution_count": null,
   "metadata": {},
   "outputs": [],
   "source": []
  },
  {
   "cell_type": "code",
   "execution_count": null,
   "metadata": {},
   "outputs": [],
   "source": []
  },
  {
   "cell_type": "code",
   "execution_count": null,
   "metadata": {},
   "outputs": [],
   "source": []
  }
 ],
 "metadata": {
  "anaconda-cloud": {},
  "kernelspec": {
   "display_name": "Python 3",
   "language": "python",
   "name": "python3"
  },
  "language_info": {
   "codemirror_mode": {
    "name": "ipython",
    "version": 3
   },
   "file_extension": ".py",
   "mimetype": "text/x-python",
   "name": "python",
   "nbconvert_exporter": "python",
   "pygments_lexer": "ipython3",
   "version": "3.6.4"
  }
 },
 "nbformat": 4,
 "nbformat_minor": 1
}

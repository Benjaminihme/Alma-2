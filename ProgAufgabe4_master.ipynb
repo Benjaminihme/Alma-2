{
 "cells": [
  {
   "cell_type": "markdown",
   "metadata": {},
   "source": [
    "##  Programmieraufgabe 4"
   ]
  },
  {
   "cell_type": "code",
   "execution_count": 4,
   "metadata": {},
   "outputs": [],
   "source": [
    "# some setup\n",
    "%matplotlib inline\n",
    "import numpy as np \n",
    "import matplotlib.pyplot as plt \n",
    "from math import factorial"
   ]
  },
  {
   "cell_type": "markdown",
   "metadata": {},
   "source": [
    "## Newtonsche Darstellung und Auswertung des Interpolationspolynoms\n",
    "\n",
    "Sei $I = [a,b]$ ein Interval und $f \\in C(I)$ eine stetige Funktion. \n",
    "Sei $x = \\{x_0, \\ldots, x_n\\}$  eine Liste von St&uuml;tzstellen und $y = \\{y_0, \\ldots, y_n\\}$ eine Liste von Funktionsauswertungen, d.h. $y_i = f(x_i)$ f&uuml;r $i = 0, \\ldots, n$.\n",
    "\n",
    "a)  Implementieren Sie einen Algorithmus, der basierend auf den Listen $x$ und $y$ eine Liste $z = \\{ z_0, \\ldots, z_n \\}$ von dividierten Differenzen gem&auml;ss des Dreicksschemas berechnet, wobei\n",
    "\n",
    " \\begin{equation}\n",
    " z_i = f[x_0, \\ldots, x_i] \\, , \\quad i = 0, \\ldots, n\\, .\n",
    " \\end{equation}\n",
    "\n",
    "b) Implementieren Sie eine Funktion, die basierend auf einer Liste $x$ von St&uuml;tzstellen und einer Liste $z$ von dividierten Differenzen die Auswertung des interpolierenden Polynoms $p \\in \\Pi_n$ an einer Stelle $t \\in [a,b]$ mit Hilfe des Horner-Schemas berechnet.\n",
    "\n",
    "c) Testen Sie Ihren Code mit der Funktion $f(t) = 1/(1+25t^2)$ auf $I = [-1,1]$. \n",
    "Benutzen Sie &auml;quidistante St&uuml;tzstellen mit n = 5, 10, 15, 20. \n",
    "Plotten Sie dazu die interpolierenden Polynome sowie die Funktion $f$ in eine Achse.\n",
    "\n",
    "d)Wiederholen Sie die Aufgabe mit denselben Werten f&uuml;r  $n$, aber unter Verwendung von Tschebyschevknoten \n",
    "$x_k = \\cos\\Big(\\frac{2k+1}{2n}\\pi\\Big)$, $k=0,...,n-1$, als St&uuml;tzstellen.\n",
    "\n",
    "e) Berechnen und plotten Sie die $n$-ten Bernsteinpolynome $B_nf$. Beachten Sie, dass eine Reskalierung vorgenommen werden muss. Betrachten Sie $g(t) = f(2t-1)  $"
   ]
  },
  {
   "cell_type": "code",
   "execution_count": 293,
   "metadata": {},
   "outputs": [],
   "source": [
    "#### dividierte Differenzen\n",
    "def computeDivDiff( x, y ) :\n",
    "    n = len(x); #here i put in a -1\n",
    "    #z = np.zeros(n);\n",
    "    #div = np.zeros(n);\n",
    "    \n",
    "    #Insert code here\n",
    "    z=[]\n",
    "    z2=[0] #temporary memory\n",
    "    for i in range(n): #fill z and z2 with lists of function values and corresponding points\n",
    "        z.append([[x[i]],y[i]])\n",
    "        z2.append([[x[i]],y[i]])\n",
    "    #print(\"initial z\",z)\n",
    "    \n",
    "\n",
    "    for k in range(n-1): #we need n-1 more \n",
    "        for i in range(k,n-1): #work on lower part of list\n",
    "            z2[i+1][1]=(z[i+1][1]-z[i][1])/(z[i+1][0][-1]-z[i][0][0]) #set temporary y-value to divided differenve\n",
    "            z2[i+1][0]=z[i][0] #set temporary x-list to that of z[i] \n",
    "            z2[i+1][0].append(z[i+1][0][-1]) #and append the last element of x-list of z[i+1]\n",
    "            \n",
    "        for i in range(k,n-1): #set z to computed values stored in z2\n",
    "            z[i+1][0]=z2[i+1][0]\n",
    "            z[i+1][1]=z2[i+1][1]\n",
    "    #print(\"z after computation\",z)\n",
    "    \n",
    "    w=[]\n",
    "    for i in range(n):\n",
    "        w.append(z[i][1])\n",
    "\n",
    "    #Insert code here\n",
    "    \n",
    "            \n",
    "    \n",
    "    return w;\n",
    "#### Horner schema fuer das Newton-Polynom ausgewertet an t\n",
    "#### Stuetzstellen x, dividierste Differenzen z\n",
    "def evalHorner( x, z, t ) :\n",
    "    \n",
    "    #Insert code here\n",
    "    n=len(x)-1\n",
    "    #print(\"last element in z is\",z[-1])\n",
    "    val=z[-1] #start evaluation at last entry in z\n",
    "    for i in range(len(x)-1): #go through the horner sum/product\n",
    "        j=n-i-1 #go through lists backwards\n",
    "        val=val*((t-x[j]))+z[j]\n",
    "    \n",
    "    return val\n",
    "\n",
    "### Runge-Funktion 1/(1+25x^2)\n",
    "def func( t ) :\n",
    "\n",
    "    return 1/(1+25*t*t)\n",
    "\n",
    "### Tschebyscheff Stuetzstellen\n",
    "def getTschebyschevNodes( a, b, n ) :\n",
    "    x = np.zeros(n);\n",
    "    for i in np.arange(0,n):\n",
    "        x[i] = (a-b) * np.cos( (2*i+1) * np.pi / (2*n) ) / 2 + (a+b)/2;\n",
    "    return(x);\n",
    "\n",
    "def compute_n_chose_k(n,k):\n",
    "    enum=1\n",
    "    denom=1\n",
    "    for i in range(1,min(k,n-k)+1):\n",
    "        enum*=n\n",
    "        denom*=i\n",
    "        n-=1\n",
    "    return enum/denom\n",
    "\n",
    "### n-tes Bernstein-Polynom auf [0,1] ausgewertet an t\n",
    "### y... Funktionswerte an den aequidistanten Stuetzstellen\n",
    "def evalBernstein(y,n,t):\n",
    "    \n",
    "    #Insert code here\n",
    "    sum=0\n",
    "    binom_coef=[]\n",
    "    for k in range(0,n+1):\n",
    "            binom_coef.append(compute_n_chose_k(n,k))\n",
    "            sum+=y[k]*binom_coef[k]*(t**k)*(1-t)**(n-k)\n",
    "            \n",
    "    return sum"
   ]
  },
  {
   "cell_type": "code",
   "execution_count": 300,
   "metadata": {},
   "outputs": [
    {
     "data": {
      "image/png": "[encoded data removed]",
      "text/plain": [
       "<matplotlib.figure.Figure at 0x1c6e4b78e10>"
      ]
     },
     "metadata": {},
     "output_type": "display_data"
    }
   ],
   "source": [
    "### Test\n",
    "\n",
    "## Variablen\n",
    "n = 15;\n",
    "a = -1;\n",
    "b = 1;\n",
    "\n",
    "# erzeuge aequidistantes Gitter bzw. berechne Chebychev-Knoten\n",
    "#x = np.linspace(a,b,n+1);\n",
    "x = getTschebyschevNodes(a,b,n+1);\n",
    "\n",
    "# berechne die Funktionswerte\n",
    "y = np.zeros(n+1);\n",
    "for i in np.arange(0,n+1):\n",
    "    y[i] = func( x[i] );    \n",
    "    \n",
    "## berechne dividierte Differenzen    \n",
    "z = computeDivDiff( x , y);\n",
    "\n",
    "\n",
    "### plotte Funktion, Interpolierende und Bernsteinpolynom auf feinem Gitter\n",
    "eps = 0.0;\n",
    "N = 1000;\n",
    "\n",
    "r = np.linspace(a - eps, b + eps, N) ;   \n",
    "f = np.zeros(N);\n",
    "If = np.zeros(N);\n",
    "for i in range(N):\n",
    "    f[i]=func(a+(i/N)*(b-a))\n",
    "    If[i]=evalHorner(x,z,a+(i/N)*(b-a))\n",
    "\n",
    "#Insert code here\n",
    "plt.plot(r,f)\n",
    "plt.plot(r,If)\n",
    "plt.show()"
   ]
  },
  {
   "cell_type": "code",
   "execution_count": 301,
   "metadata": {},
   "outputs": [
    {
     "data": {
      "image/png": "[encoded data removed]",
      "text/plain": [
       "<matplotlib.figure.Figure at 0x1c6e5e70e80>"
      ]
     },
     "metadata": {},
     "output_type": "display_data"
    }
   ],
   "source": [
    "Bnf=np.zeros(N)\n",
    "for i in range(N):\n",
    "    Bnf[i]=evalBernstein(y,n,i/N)\n",
    "plt.plot(r,f)\n",
    "plt.plot(r,Bnf)\n",
    "plt.show()"
   ]
  },
  {
   "cell_type": "code",
   "execution_count": null,
   "metadata": {},
   "outputs": [],
   "source": []
  },
  {
   "cell_type": "code",
   "execution_count": null,
   "metadata": {},
   "outputs": [],
   "source": []
  },
  {
   "cell_type": "code",
   "execution_count": null,
   "metadata": {},
   "outputs": [],
   "source": []
  },
  {
   "cell_type": "code",
   "execution_count": null,
   "metadata": {},
   "outputs": [],
   "source": []
  },
  {
   "cell_type": "code",
   "execution_count": null,
   "metadata": {},
   "outputs": [],
   "source": []
  },
  {
   "cell_type": "code",
   "execution_count": null,
   "metadata": {},
   "outputs": [],
   "source": []
  },
  {
   "cell_type": "code",
   "execution_count": null,
   "metadata": {},
   "outputs": [],
   "source": []
  }
 ],
 "metadata": {
  "anaconda-cloud": {},
  "kernelspec": {
   "display_name": "Python 3",
   "language": "python",
   "name": "python3"
  },
  "language_info": {
   "codemirror_mode": {
    "name": "ipython",
    "version": 3
   },
   "file_extension": ".py",
   "mimetype": "text/x-python",
   "name": "python",
   "nbconvert_exporter": "python",
   "pygments_lexer": "ipython3",
   "version": "3.6.4"
  }
 },
 "nbformat": 4,
 "nbformat_minor": 1
}
